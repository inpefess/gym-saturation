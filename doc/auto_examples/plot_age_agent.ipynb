{
  "cells": [
    {
      "cell_type": "markdown",
      "metadata": {},
      "source": [
        "\n# Random and age agents for Vampire and iProver\n"
      ]
    },
    {
      "cell_type": "markdown",
      "metadata": {},
      "source": [
        "## Random agent for Vampire\n\nTo make a ``gym-saturation`` environment, we have to import the package\n\n"
      ]
    },
    {
      "cell_type": "code",
      "execution_count": null,
      "metadata": {
        "collapsed": false
      },
      "outputs": [],
      "source": [
        "import gymnasium as gym\n\nimport gym_saturation"
      ]
    },
    {
      "cell_type": "markdown",
      "metadata": {},
      "source": [
        "then we can make a prover environment as any other Gymnasium one\n\n"
      ]
    },
    {
      "cell_type": "code",
      "execution_count": null,
      "metadata": {
        "collapsed": false
      },
      "outputs": [],
      "source": [
        "env = gym.make(\"Vampire-v0\")"
      ]
    },
    {
      "cell_type": "markdown",
      "metadata": {},
      "source": [
        "before using the environment, we should reset it\n\n"
      ]
    },
    {
      "cell_type": "code",
      "execution_count": null,
      "metadata": {
        "collapsed": false
      },
      "outputs": [],
      "source": [
        "observation, info = env.reset()"
      ]
    },
    {
      "cell_type": "markdown",
      "metadata": {},
      "source": [
        "``gym-saturation`` environments don't return any ``info``\n\n"
      ]
    },
    {
      "cell_type": "code",
      "execution_count": null,
      "metadata": {
        "collapsed": false
      },
      "outputs": [],
      "source": [
        "print(info)"
      ]
    },
    {
      "cell_type": "markdown",
      "metadata": {},
      "source": [
        "observation is a dictionary with two keys\n\n"
      ]
    },
    {
      "cell_type": "code",
      "execution_count": null,
      "metadata": {
        "collapsed": false
      },
      "outputs": [],
      "source": [
        "print(observation.keys())"
      ]
    },
    {
      "cell_type": "markdown",
      "metadata": {},
      "source": [
        "``real_obs`` value is a JSON representation of logic clauses\n\n"
      ]
    },
    {
      "cell_type": "code",
      "execution_count": null,
      "metadata": {
        "collapsed": false
      },
      "outputs": [],
      "source": [
        "import pprint\n\nfrom gym_saturation.constants import ACTION_MASK, REAL_OBS\n\npprint.pp(observation[REAL_OBS])"
      ]
    },
    {
      "cell_type": "markdown",
      "metadata": {},
      "source": [
        "``action_mask`` is a ``numpy`` array of zeros and ones\n\n"
      ]
    },
    {
      "cell_type": "code",
      "execution_count": null,
      "metadata": {
        "collapsed": false
      },
      "outputs": [],
      "source": [
        "print(type(observation[ACTION_MASK]))\nprint(observation[ACTION_MASK].shape)\nprint(observation[ACTION_MASK][:10])"
      ]
    },
    {
      "cell_type": "markdown",
      "metadata": {},
      "source": [
        "We can render the environment state in the TPTP format.\nBy default, we are trying to prove a basic group theory lemma:\nevery idempotent element equals the identity\n\n"
      ]
    },
    {
      "cell_type": "code",
      "execution_count": null,
      "metadata": {
        "collapsed": false
      },
      "outputs": [],
      "source": [
        "env.render()"
      ]
    },
    {
      "cell_type": "markdown",
      "metadata": {},
      "source": [
        "here is an example of an episode during which we play random avail actions\n\n"
      ]
    },
    {
      "cell_type": "code",
      "execution_count": null,
      "metadata": {
        "collapsed": false
      },
      "outputs": [],
      "source": [
        "terminated, truncated = False, False\nwhile not (terminated or truncated):\n    action = env.action_space.sample(mask=observation[ACTION_MASK])\n    observation, reward, terminated, truncated, info = env.step(action)\nenv.close()"
      ]
    },
    {
      "cell_type": "markdown",
      "metadata": {},
      "source": [
        "the episode terminated with positive reward\n\n"
      ]
    },
    {
      "cell_type": "code",
      "execution_count": null,
      "metadata": {
        "collapsed": false
      },
      "outputs": [],
      "source": [
        "print(terminated, truncated, reward)"
      ]
    },
    {
      "cell_type": "markdown",
      "metadata": {},
      "source": [
        "It means we arrived at a contradiction (``$false``) which proves the lemma.\nNotice the ``birth_step`` number of a contradiction, it shows how many steps\nwe did to find proof.\n\n"
      ]
    },
    {
      "cell_type": "code",
      "execution_count": null,
      "metadata": {
        "collapsed": false
      },
      "outputs": [],
      "source": [
        "pprint.pp(observation[REAL_OBS][-1])"
      ]
    },
    {
      "cell_type": "markdown",
      "metadata": {},
      "source": [
        "the package also provides a utility function for extracting only clauses\nwhich became parts of the proof (some steps might be unnecessary to find the\nproof)\n\n"
      ]
    },
    {
      "cell_type": "code",
      "execution_count": null,
      "metadata": {
        "collapsed": false
      },
      "outputs": [],
      "source": [
        "from gym_saturation.utils import get_tstp_proof\n\nprint(get_tstp_proof(observation[REAL_OBS]))"
      ]
    },
    {
      "cell_type": "markdown",
      "metadata": {},
      "source": [
        "## Age agent for iProver\n\nWe initialise iProver-based environment in the same way\n\n"
      ]
    },
    {
      "cell_type": "code",
      "execution_count": null,
      "metadata": {
        "collapsed": false
      },
      "outputs": [],
      "source": [
        "env = gym.make(\"iProver-v0\")"
      ]
    },
    {
      "cell_type": "markdown",
      "metadata": {},
      "source": [
        "Instead of a random agent, let's use Age agent which selects actions in the\norder they became available\n\n"
      ]
    },
    {
      "cell_type": "code",
      "execution_count": null,
      "metadata": {
        "collapsed": false
      },
      "outputs": [],
      "source": [
        "observation, info = env.reset()\nterminated, truncated = False, False\naction = 0\nwhile not (terminated or truncated):\n    if observation[ACTION_MASK][action] == 1:\n        observation, reward, terminated, truncated, info = env.step(action)\n    action += 1\nenv.close()"
      ]
    },
    {
      "cell_type": "markdown",
      "metadata": {},
      "source": [
        "We still arrive at the contradiction but it might take a different number of\nsteps. And the proof found looks a bit different\n\n"
      ]
    },
    {
      "cell_type": "code",
      "execution_count": null,
      "metadata": {
        "collapsed": false
      },
      "outputs": [],
      "source": [
        "print(get_tstp_proof(observation[REAL_OBS]))"
      ]
    }
  ],
  "metadata": {
    "kernelspec": {
      "display_name": "Python 3",
      "language": "python",
      "name": "python3"
    },
    "language_info": {
      "codemirror_mode": {
        "name": "ipython",
        "version": 3
      },
      "file_extension": ".py",
      "mimetype": "text/x-python",
      "name": "python",
      "nbconvert_exporter": "python",
      "pygments_lexer": "ipython3",
      "version": "3.11.2"
    }
  },
  "nbformat": 4,
  "nbformat_minor": 0
}