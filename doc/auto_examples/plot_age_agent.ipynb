{
  "cells": [
    {
      "cell_type": "markdown",
      "metadata": {},
      "source": [
        "\n# Random and age agents for Vampire and iProver\n"
      ]
    },
    {
      "cell_type": "markdown",
      "metadata": {},
      "source": [
        "## Random agent for Vampire\n\nWe can make a prover environment as any other Gymnasium one\nWe will always add a wrapper to extract formulae labels\n\n"
      ]
    },
    {
      "cell_type": "code",
      "execution_count": null,
      "metadata": {
        "collapsed": false
      },
      "outputs": [],
      "source": [
        "import gymnasium as gym\n\nfrom gym_saturation.wrappers import LabelsExtractor\n\nenv = LabelsExtractor(gym.make(\"Vampire-v0\"))"
      ]
    },
    {
      "cell_type": "markdown",
      "metadata": {},
      "source": [
        "before using the environment, we should reset it\n\n"
      ]
    },
    {
      "cell_type": "code",
      "execution_count": null,
      "metadata": {
        "collapsed": false
      },
      "outputs": [],
      "source": [
        "observation, info = env.reset()"
      ]
    },
    {
      "cell_type": "markdown",
      "metadata": {},
      "source": [
        "``gym-saturation`` environments don't return any ``info``\n\n"
      ]
    },
    {
      "cell_type": "code",
      "execution_count": null,
      "metadata": {
        "collapsed": false
      },
      "outputs": [],
      "source": [
        "print(info)"
      ]
    },
    {
      "cell_type": "markdown",
      "metadata": {},
      "source": [
        "Observation is a tuple of CNF formulae.\nBy default, we are trying to prove a basic group theory lemma:\nevery idempotent element equals the identity\n\n"
      ]
    },
    {
      "cell_type": "code",
      "execution_count": null,
      "metadata": {
        "collapsed": false
      },
      "outputs": [],
      "source": [
        "print(\"Observation:\")\nprint(\"\\n\".join(observation[\"observation\"]))"
      ]
    },
    {
      "cell_type": "markdown",
      "metadata": {},
      "source": [
        "Wrappers extracts formulae labels for us:\n\n"
      ]
    },
    {
      "cell_type": "code",
      "execution_count": null,
      "metadata": {
        "collapsed": false
      },
      "outputs": [],
      "source": [
        "labels = list(observation[\"labels\"])\nprint(labels)"
      ]
    },
    {
      "cell_type": "markdown",
      "metadata": {},
      "source": [
        "Here is an example of an episode during which we play random actions.\nWe set the random seed for reproducibility.\n\n"
      ]
    },
    {
      "cell_type": "code",
      "execution_count": null,
      "metadata": {
        "collapsed": false
      },
      "outputs": [],
      "source": [
        "import random\n\nrandom.seed(0)\n\nterminated, truncated = False, False\nwhile not (terminated or truncated):\n    action = random.choice(labels)\n    observation, reward, terminated, truncated, info = env.step(action)\n    print(\"Action:\", action, \"Observation:\")\n    print(\"\\n\".join(observation[\"observation\"]))\n    labels.remove(action)\n    labels += list(observation[\"labels\"])\n\nenv.close()"
      ]
    },
    {
      "cell_type": "markdown",
      "metadata": {},
      "source": [
        "the episode is terminated\n\n"
      ]
    },
    {
      "cell_type": "code",
      "execution_count": null,
      "metadata": {
        "collapsed": false
      },
      "outputs": [],
      "source": [
        "print(terminated, truncated)"
      ]
    },
    {
      "cell_type": "markdown",
      "metadata": {},
      "source": [
        "It means we arrived at a contradiction (``$false``) which proves the lemma.\n\n"
      ]
    },
    {
      "cell_type": "code",
      "execution_count": null,
      "metadata": {
        "collapsed": false
      },
      "outputs": [],
      "source": [
        "print(observation[\"observation\"][-1])"
      ]
    },
    {
      "cell_type": "markdown",
      "metadata": {},
      "source": [
        "## Age agent for iProver\n\nWe initialise iProver-based environment in the same way\n\n"
      ]
    },
    {
      "cell_type": "code",
      "execution_count": null,
      "metadata": {
        "collapsed": false
      },
      "outputs": [],
      "source": [
        "env = LabelsExtractor(gym.make(\"iProver-v0\"))"
      ]
    },
    {
      "cell_type": "markdown",
      "metadata": {},
      "source": [
        "Special magic needed if running by Jupyter\n\n"
      ]
    },
    {
      "cell_type": "code",
      "execution_count": null,
      "metadata": {
        "collapsed": false
      },
      "outputs": [],
      "source": [
        "import nest_asyncio\n\nnest_asyncio.apply()"
      ]
    },
    {
      "cell_type": "markdown",
      "metadata": {},
      "source": [
        "Instead of a random agent, let's use Age agent which selects actions in the\norder they appear\n\n"
      ]
    },
    {
      "cell_type": "code",
      "execution_count": null,
      "metadata": {
        "collapsed": false
      },
      "outputs": [],
      "source": [
        "observation, info = env.reset()\nprint(\"Observation:\")\nprint(\"\\n\".join(observation[\"observation\"]))\nlabels = list(observation[\"labels\"])\nterminated = False\nwhile not terminated:\n    action = labels.pop(0)\n    observation, reward, terminated, truncated, info = env.step(action)\n    print(\"Action:\", action, \"Observation:\")\n    print(\"\\n\".join(observation[\"observation\"]))\n    labels += list(observation[\"labels\"])\nenv.close()"
      ]
    },
    {
      "cell_type": "markdown",
      "metadata": {},
      "source": [
        "We still arrive at a contradiction\n\n"
      ]
    },
    {
      "cell_type": "code",
      "execution_count": null,
      "metadata": {
        "collapsed": false
      },
      "outputs": [],
      "source": [
        "print(terminated, truncated)\nprint(observation[\"observation\"][-1])"
      ]
    }
  ],
  "metadata": {
    "kernelspec": {
      "display_name": "Python 3",
      "language": "python",
      "name": "python3"
    },
    "language_info": {
      "codemirror_mode": {
        "name": "ipython",
        "version": 3
      },
      "file_extension": ".py",
      "mimetype": "text/x-python",
      "name": "python",
      "nbconvert_exporter": "python",
      "pygments_lexer": "ipython3",
      "version": "3.13.2"
    }
  },
  "nbformat": 4,
  "nbformat_minor": 0
}