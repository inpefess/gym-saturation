{
 "cells": [
  {
   "cell_type": "code",
   "execution_count": 1,
   "id": "05059b08",
   "metadata": {
    "collapsed": false
   },
   "outputs": [],
   "source": [
    "# saturation prover environment can be created\n",
    "# as any other OpenAI Gym environment\n",
    "import gym\n",
    "import os\n",
    "from glob import glob\n",
    "import sys\n",
    "if sys.version_info.major == 3 and sys.version_info.minor == 9:\n",
    "    from importlib.resources import files\n",
    "else:\n",
    "    from importlib_resources import files\n",
    "\n",
    "# this example uses package's resources\n",
    "# one can indicate the path to unpacked (TPTP)[http://tptp.org/] instead\n",
    "# it's obligatory to set the maximal number of steps of saturation algorithm\n",
    "# and the list of problems. Here are CNF problems from TPTP\n",
    "problem_list = glob(\n",
    "    os.path.join(\n",
    "        files(\n",
    "            \"gym_saturation\"\n",
    "        ).joinpath(\"resources/TPTP-mock\"),\n",
    "        \"Problems/*/*-*.p\"\n",
    "    )\n",
    ")\n",
    "env = gym.make(\n",
    "    \"gym_saturation:saturation-v0\",\n",
    "    step_limit=100,\n",
    "    problem_list=problem_list\n",
    ")"
   ]
  },
  {
   "cell_type": "code",
   "execution_count": 2,
   "id": "d175ded4",
   "metadata": {
    "collapsed": false
   },
   "outputs": [
    {
     "name": "stdout",
     "output_type": "stream",
     "text": [
      "3\n"
     ]
    }
   ],
   "source": [
    "# to make results reproducible, let's set the seed\n",
    "print(env.seed(3))"
   ]
  },
  {
   "cell_type": "code",
   "execution_count": 3,
   "id": "2aa6a07a",
   "metadata": {
    "collapsed": false
   },
   "outputs": [],
   "source": [
    "# when resettig the environment one may pass an optional argument ---\n",
    "# a name of an exact problem from TPTP\n",
    "# (if omitted, a problem will be chosen at random)\n",
    "# parsing is done with `lark` package which sometimes might be slow\n",
    "# reimplementing parsing in a faster language than Python might help\n",
    "state = env.reset()"
   ]
  },
  {
   "cell_type": "code",
   "execution_count": 4,
   "id": "a655ba42",
   "metadata": {
    "collapsed": false
   },
   "outputs": [
    {
     "name": "stdout",
     "output_type": "stream",
     "text": [
      "TST002-1.p\n"
     ]
    }
   ],
   "source": [
    "# during the reset a problem is chosen at random\n",
    "print(os.path.basename(env.problem))"
   ]
  },
  {
   "cell_type": "code",
   "execution_count": 5,
   "id": "58f0694e",
   "metadata": {
    "collapsed": false
   },
   "outputs": [
    {
     "name": "stdout",
     "output_type": "stream",
     "text": [
      "{'class': 'Literal', 'negated': False, 'atom': {'class': 'Predicate', 'name': 'q', 'arguments': [{'class': 'Function', 'name': 'a', 'arguments': []}]}}\n"
     ]
    }
   ],
   "source": [
    "# state is a list of dictionaries, representing logical clauses\n",
    "print(state[0][\"literals\"][0])"
   ]
  },
  {
   "cell_type": "code",
   "execution_count": 6,
   "id": "7daad313",
   "metadata": {
    "collapsed": false
   },
   "outputs": [
    {
     "name": "stdout",
     "output_type": "stream",
     "text": [
      "[0, 1, 2, 3]\n"
     ]
    }
   ],
   "source": [
    "# possible actions are indices of not processed clauses from the state\n",
    "print(env.action_space)"
   ]
  },
  {
   "cell_type": "code",
   "execution_count": 7,
   "id": "c179f81c",
   "metadata": {
    "collapsed": false
   },
   "outputs": [
    {
     "name": "stdout",
     "output_type": "stream",
     "text": [
      "cnf(a1, hypothesis, q(a) ).\n",
      "cnf(a2, hypothesis, ~q(a) |=(f(X0),X0) ).\n",
      "cnf(a3, hypothesis, p(X1) |p(f(a)) ).\n",
      "cnf(c, hypothesis, ~p(X2) |~p(f(X2)) ).\n"
     ]
    }
   ],
   "source": [
    "# only \"ansi\" and \"human\" rendering methods are implemented\n",
    "# \"human\" returns TPTP representation\n",
    "print(env.render())"
   ]
  },
  {
   "cell_type": "code",
   "execution_count": 8,
   "id": "0b1bcd0f",
   "metadata": {
    "collapsed": false
   },
   "outputs": [
    {
     "name": "stdout",
     "output_type": "stream",
     "text": [
      "[{'class': 'Clause', 'literals': [{'class': 'Literal', 'negated': False, 'atom': {'class': 'Predicate', 'name': 'q', 'arguments': [{'class': 'Function', 'name': 'a', 'arguments': []}]}}], 'label': 'a1', 'birth_step': 0, 'processed': False, 'inference_parents': [], 'inference_rule': None}, {'class': 'Clause', 'literals': [{'class': 'Literal', 'negated': True, 'atom': {'class': 'Predicate', 'name': 'q', 'arguments': [{'class': 'Function', 'name': 'a', 'arguments': []}]}}, {'class': 'Literal', 'negated': False, 'atom': {'class': 'Predicate', 'name': '=', 'arguments': [{'class': 'Function', 'name': 'f', 'arguments': [{'class': 'Variable', 'name': 'X0'}]}, {'class': 'Variable', 'name': 'X0'}]}}], 'label': 'a2', 'birth_step': 0, 'processed': False, 'inference_parents': [], 'inference_rule': None}, {'class': 'Clause', 'literals': [{'class': 'Literal', 'negated': False, 'atom': {'class': 'Predicate', 'name': 'p', 'arguments': [{'class': 'Variable', 'name': 'X1'}]}}, {'class': 'Literal', 'negat\n"
     ]
    }
   ],
   "source": [
    "# \"ansi\" returns a JSON string representing the state\n",
    "print(env.render(\"ansi\")[:1000])"
   ]
  },
  {
   "cell_type": "code",
   "execution_count": 9,
   "id": "72504885",
   "metadata": {
    "collapsed": false
   },
   "outputs": [
    {
     "name": "stdout",
     "output_type": "stream",
     "text": [
      "True 1.0\n"
     ]
    }
   ],
   "source": [
    "# the package includes a simple episode function\n",
    "from gym_saturation.policy_testing import episode\n",
    "# and an example policy, selecting the shortest clause\n",
    "from gym_saturation.policy_testing import size_policy\n",
    "\n",
    "env, episode_memory = episode(\n",
    "    problem_filename=files(\n",
    "        \"gym_saturation\"\n",
    "    ).joinpath(\"resources/TPTP-mock/Problems/SET/SET001-1.p\"), \n",
    "    step_limit=15,\n",
    "    policy=size_policy\n",
    ")\n",
    "# this policy manages to solve a simple problem from TPTP\n",
    "print(episode_memory[-1].done, episode_memory[-1].reward)"
   ]
  },
  {
   "cell_type": "code",
   "execution_count": 10,
   "id": "03aa996b",
   "metadata": {
    "collapsed": false
   },
   "outputs": [
    {
     "name": "stdout",
     "output_type": "stream",
     "text": [
      "15\n"
     ]
    }
   ],
   "source": [
    "# the proof here consists of only three steps\n",
    "# but a naïve clause size policy finds it only after 15 steps\n",
    "# a trained DL policy might have done better\n",
    "print(len(episode_memory))"
   ]
  },
  {
   "cell_type": "code",
   "execution_count": 11,
   "id": "2dd7d596",
   "metadata": {
    "collapsed": false
   },
   "outputs": [
    {
     "name": "stdout",
     "output_type": "stream",
     "text": [
      "cnf(inferred_27, hypothesis, $false, inference(resolution, [], [prove_element_of_bb,inferred_23])).\n",
      "cnf(inferred_23, hypothesis, member(element_of_b,bb) , inference(resolution, [], [inferred_0,inferred_4])).\n",
      "cnf(inferred_0, hypothesis, subset(b,bb) , inference(resolution, [], [b_equals_bb,set_equal_sets_are_subsets1])).\n",
      "cnf(inferred_4, hypothesis, ~subset(b,X2) |member(element_of_b,X2) , inference(resolution, [], [element_of_b,membership_in_subsets])).\n"
     ]
    }
   ],
   "source": [
    "# one can now check the TSTP proof found\n",
    "print(env.tstp_proof)"
   ]
  },
  {
   "cell_type": "code",
   "execution_count": 12,
   "id": "065139e2",
   "metadata": {
    "collapsed": false
   },
   "outputs": [
    {
     "name": "stdout",
     "output_type": "stream",
     "text": [
      "4 25\n"
     ]
    }
   ],
   "source": [
    "# paramodulation test\n",
    "env, episode_memory = episode(\n",
    "    problem_filename=files(\n",
    "        \"gym_saturation\"\n",
    "    ).joinpath(\"resources/TPTP-mock/Problems/TST/TST002-1.p\"), \n",
    "    step_limit=25,\n",
    "    policy=size_policy\n",
    ")\n",
    "# here the proof consists of four steps\n",
    "# but a naïve policy needs 25\n",
    "print(\n",
    "    len(env.tstp_proof.split(\"\\n\")), \n",
    "    len(episode_memory)\n",
    ")"
   ]
  },
  {
   "cell_type": "code",
   "execution_count": null,
   "id": "9ed21da9",
   "metadata": {
    "collapsed": false
   },
   "outputs": [],
   "source": []
  }
 ],
 "metadata": {
  "kernelspec": {
   "argv": [
    "python",
    "-m",
    "ipykernel_launcher",
    "-f",
    "{connection_file}"
   ],
   "display_name": "Python 3",
   "env": null,
   "interrupt_mode": "signal",
   "language": "python",
   "metadata": null,
   "name": "python3"
  },
  "name": "example.ipynb"
 },
 "nbformat": 4,
 "nbformat_minor": 5
}
