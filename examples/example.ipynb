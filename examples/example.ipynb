{
 "cells": [
  {
   "cell_type": "markdown",
   "id": "0f03a319-2e81-4b99-b580-5b8b58fe577a",
   "metadata": {
    "jupyter": {
     "outputs_hidden": false
    },
    "slideshow": {
     "slide_type": "slide"
    },
    "tags": []
   },
   "source": [
    "<pre>\n",
    "Copyright 2021-2023 Boris Shminke\n",
    "\n",
    "Licensed under the Apache License, Version 2.0 (the \"License\");\n",
    "you may not use this file except in compliance with the License.\n",
    "You may obtain a copy of the License at\n",
    "\n",
    "    https://www.apache.org/licenses/LICENSE-2.0\n",
    "\n",
    "Unless required by applicable law or agreed to in writing, software\n",
    "distributed under the License is distributed on an \"AS IS\" BASIS,\n",
    "WITHOUT WARRANTIES OR CONDITIONS OF ANY KIND, either express or implied.\n",
    "See the License for the specific language governing permissions and\n",
    "limitations under the License.\n",
    "</pre>"
   ]
  },
  {
   "cell_type": "code",
   "execution_count": 1,
   "id": "1eac75c1-5589-4164-851c-b98e6042d69d",
   "metadata": {
    "collapsed": false,
    "jupyter": {
     "outputs_hidden": false
    },
    "tags": []
   },
   "outputs": [],
   "source": [
    "# first, we should have a file with a TPTP problem\n",
    "import sys\n",
    "import os\n",
    "\n",
    "if sys.version_info.major == 3 and sys.version_info.minor >= 9:\n",
    "    from importlib.resources import files\n",
    "else:\n",
    "    from importlib_resources import files\n",
    "\n",
    "test_problem = files(\"gym_saturation\").joinpath(\n",
    "    os.path.join(\"resources\", \"TPTP-mock\", \"Problems\", \"SET\", \"SET001-1.p\")\n",
    ")"
   ]
  },
  {
   "cell_type": "code",
   "execution_count": 2,
   "id": "e53a091e-7b64-485c-bfb4-ea7628b8f058",
   "metadata": {
    "collapsed": false,
    "jupyter": {
     "outputs_hidden": false
    },
    "slideshow": {
     "slide_type": "slide"
    },
    "tags": []
   },
   "outputs": [
    {
     "name": "stdout",
     "output_type": "stream",
     "text": [
      "%--------------------------------------------------------------------------\n",
      "% This file is a part of TPTP. For more information see https://www.tptp.org/\n",
      "\n",
      "% Copyright\n",
      "% ---------\n",
      "% The TPTP is copyrighted 1993-onwards,  by Geoff Sutcliffe &  Christian Suttner.\n",
      "% Verbatim redistribution of the TPTP and parts of the TPTP is permitted provided\n",
      "% that the redistribution is clearly attributed to the TPTP.  Distribution of any\n",
      "% modified version or modified part of the TPTP requires permission.\n",
      "\n",
      "% File     : SET001-1 : TPTP v7.5.0. Released v1.0.0.\n",
      "% Domain   : Set Theory\n",
      "% Problem  : Set members are superset members\n",
      "% Version  : [LS74] axioms.\n",
      "% English  : A member of a set is also a member of that set's supersets.\n",
      "\n",
      "% Refs     : [LS74]  Lawrence & Starkey (1974), Experimental Tests of Resol\n",
      "%          : [WM76]  Wilson & Minker (1976), Resolution, Refinements, and S\n",
      "% Source   : [SPRFN]\n",
      "% Names    : ls100 [LS74]\n",
      "%          : ls100 [WM76]\n",
      "\n",
      "% Status   : Unsatisfiable\n",
      "% Rating   : 0.00 v2.0.0\n",
      "% Syntax   : Number of clauses     :    9 (   1 non-Horn;   3 unit;   8 RR)\n",
      "%            Number of atoms       :   17 (   0 equality)\n",
      "%            Maximal clause size   :    3 (   2 average)\n",
      "%            Number of predicates  :    3 (   0 propositional; 2-2 arity)\n",
      "%            Number of functors    :    4 (   3 constant; 0-2 arity)\n",
      "%            Number of variables   :   13 (   0 singleton)\n",
      "%            Maximal term depth    :    2 (   1 average)\n",
      "% SPC      : CNF_UNS_RFO_NEQ_NHN\n",
      "\n",
      "% Comments :\n",
      "%--------------------------------------------------------------------------\n",
      "%----Include the member and subset axioms\n",
      "include('Axioms/SET001-0.ax').\n",
      "%--------------------------------------------------------------------------\n",
      "cnf(b_equals_bb,hypothesis,\n",
      "    ( equal_sets(b,bb) )).\n",
      "\n",
      "cnf(element_of_b,hypothesis,\n",
      "    ( member(element_of_b,b) )).\n",
      "\n",
      "cnf(prove_element_of_bb,negated_conjecture,\n",
      "    ( ~ member(element_of_b,bb) )).\n",
      "\n",
      "%--------------------------------------------------------------------------\n"
     ]
    }
   ],
   "source": [
    "!cat {test_problem}"
   ]
  },
  {
   "cell_type": "code",
   "execution_count": 3,
   "id": "ac9c7909-4b12-4a54-b1c5-401d02e6d833",
   "metadata": {
    "collapsed": false,
    "jupyter": {
     "outputs_hidden": false
    },
    "tags": []
   },
   "outputs": [
    {
     "name": "stdout",
     "output_type": "stream",
     "text": [
      "Vampire 4.7 (commit 2d02e4655 on 2022-07-11 21:15:24 +0200)\n",
      "Linked with Z3 4.8.13.0 f03d756e086f81f2596157241e0decfb1c982299 z3-4.8.4-5390-gf03d756e0\n"
     ]
    }
   ],
   "source": [
    "# we have a vampire installed in this container\n",
    "!vampire --version"
   ]
  },
  {
   "cell_type": "code",
   "execution_count": 4,
   "id": "8f3e1d18",
   "metadata": {
    "collapsed": false,
    "jupyter": {
     "outputs_hidden": false
    },
    "tags": []
   },
   "outputs": [
    {
     "name": "stdout",
     "output_type": "stream",
     "text": [
      "starting hypotheses:\n",
      "cnf(1, lemma, member(X0,X2) | ~subset(X1,X2) | ~member(X0,X1), inference(input, [], [])).\n",
      "cnf(2, lemma, member(member_of_1_not_of_2(X1,X2),X1) | subset(X1,X2), inference(input, [], [])).\n",
      "cnf(3, lemma, subset(X1,X2) | ~member(member_of_1_not_of_2(X1,X2),X2), inference(input, [], [])).\n",
      "cnf(4, lemma, subset(X1,X2) | ~equal_sets(X1,X2), inference(input, [], [])).\n",
      "cnf(5, lemma, subset(X1,X2) | ~equal_sets(X2,X1), inference(input, [], [])).\n",
      "cnf(6, lemma, equal_sets(X4,X3) | ~subset(X4,X3) | ~subset(X3,X4), inference(input, [], [])).\n",
      "cnf(7, lemma, equal_sets(b,bb), inference(input, [], [])).\n",
      "cnf(8, lemma, member(element_of_b,b), inference(input, [], [])).\n",
      "cnf(9, lemma, ~member(element_of_b,bb), inference(input, [], [])).\n"
     ]
    }
   ],
   "source": [
    "# then we create and reset a OpenAI Gym environment\n",
    "import gym\n",
    "\n",
    "prover_name = \"Vampire\"\n",
    "env = gym.make(f\"{prover_name}-v0\", problem_list=[test_problem])\n",
    "observation = env.reset()\n",
    "# we can render the environment in a human readable form\n",
    "print(\"starting hypotheses:\")\n",
    "print(env.render(mode=\"human\"))"
   ]
  },
  {
   "cell_type": "code",
   "execution_count": 5,
   "id": "e25f8e21-548d-49e3-885b-e103feb1d550",
   "metadata": {
    "tags": []
   },
   "outputs": [],
   "source": [
    "def age_agent_episode(env: gym.Env) -> float:\n",
    "    \"\"\"\n",
    "    Interact with a given environment using the 'age' agent.\n",
    "\n",
    "    'Age' agent always selects clauses for inference\n",
    "    in the order they appeared in current proof attempt\n",
    "\n",
    "    :param env: an environment\n",
    "    :returns: number of steps in the episode and its gain\n",
    "    \"\"\"\n",
    "    action = 0\n",
    "    done = False\n",
    "    num_steps = 0\n",
    "    gain = 0\n",
    "    observation = env.reset()\n",
    "    while not done:\n",
    "        if observation[\"action_mask\"][action] == 1.0:\n",
    "            observation, reward, done, info = env.step(action)\n",
    "            gain += reward\n",
    "            num_steps += 1\n",
    "        action += 1\n",
    "    return gain, num_steps"
   ]
  },
  {
   "cell_type": "code",
   "execution_count": 6,
   "id": "70416c83-1671-4ba6-a777-b062252a5d50",
   "metadata": {
    "tags": []
   },
   "outputs": [
    {
     "name": "stdout",
     "output_type": "stream",
     "text": [
      "Proof found in 16 steps\n"
     ]
    }
   ],
   "source": [
    "gain, num_steps = age_agent_episode(env)\n",
    "if gain > 0:\n",
    "    print(f\"Proof found in {num_steps} steps\")"
   ]
  },
  {
   "cell_type": "code",
   "execution_count": 7,
   "id": "949f06ae-8f6b-42d1-9635-58827246802f",
   "metadata": {
    "collapsed": false,
    "jupyter": {
     "outputs_hidden": false
    },
    "tags": []
   },
   "outputs": [
    {
     "name": "stdout",
     "output_type": "stream",
     "text": [
      "cnf(4, lemma, subset(X1,X2) | ~equal_sets(X1,X2), inference(input, [], [])).\n",
      "cnf(7, lemma, equal_sets(b,bb), inference(input, [], [])).\n",
      "cnf(1, lemma, member(X0,X2) | ~subset(X1,X2) | ~member(X0,X1), inference(input, [], [])).\n",
      "cnf(13, lemma, subset(b,bb), inference(resolution, [], [7, 4])).\n",
      "cnf(21, lemma, member(X0,bb) | ~member(X0,b), inference(resolution, [], [13, 1])).\n",
      "cnf(8, lemma, member(element_of_b,b), inference(input, [], [])).\n",
      "cnf(28, lemma, member(element_of_b,bb), inference(resolution, [], [21, 8])).\n",
      "cnf(9, lemma, ~member(element_of_b,bb), inference(input, [], [])).\n",
      "cnf(29, lemma, $false, inference(subsumption_resolution, [], [28, 9])).\n"
     ]
    }
   ],
   "source": [
    "# the package also provides a utility function\n",
    "# for extracting only clauses which became parts of the proof\n",
    "# (some steps might be unnecessary to find the proof)\n",
    "from gym_saturation.utils import get_tstp_proof\n",
    "\n",
    "print(get_tstp_proof(env.state[\"real_obs\"]))"
   ]
  },
  {
   "cell_type": "code",
   "execution_count": 8,
   "id": "339fd11b-24a3-4e13-9273-1679e9ae65dd",
   "metadata": {
    "collapsed": false,
    "jupyter": {
     "outputs_hidden": false
    },
    "tags": []
   },
   "outputs": [
    {
     "name": "stdout",
     "output_type": "stream",
     "text": [
      "\n",
      "%---------------- iProver v3.7 (post CASC-J11 2022) ----------------%\n",
      "\n",
      "iproveropt [options] [filename]\n",
      "\n",
      "\n",
      "\n",
      "%---------------- Input Options ----------------%\n",
      "\n",
      "  --out_options <none|control|all>\n"
     ]
    }
   ],
   "source": [
    "# we have an iProver in this container\n",
    "# (built from https://gitlab.com/korovin/iprover/-/commit/32c76fc0ec665a06324d11dc9d4bf902871d5f15)\n",
    "!iproveropt --help | head"
   ]
  },
  {
   "cell_type": "code",
   "execution_count": 9,
   "id": "8c5db6c2-ed8d-45bc-9fe9-e079eda2ab30",
   "metadata": {},
   "outputs": [],
   "source": [
    "prover_name = \"iProver\""
   ]
  },
  {
   "cell_type": "code",
   "execution_count": 10,
   "id": "762c090e-43cf-4cd7-bfde-0511c9fecceb",
   "metadata": {
    "tags": []
   },
   "outputs": [],
   "source": [
    "import nest_asyncio\n",
    "\n",
    "# iProver runs asynchronously with the main Python thread\n",
    "# so we need to enable nested async loops (one is where Jupyter is running)\n",
    "nest_asyncio.apply()"
   ]
  },
  {
   "cell_type": "code",
   "execution_count": 11,
   "id": "28c8fa6b-8952-4918-bbab-b6cfb1f2ad29",
   "metadata": {
    "tags": []
   },
   "outputs": [
    {
     "name": "stdout",
     "output_type": "stream",
     "text": [
      "Proof found in 13 steps\n"
     ]
    }
   ],
   "source": [
    "# and we can do the same experiment as we did with Vampire\n",
    "env = gym.make(f\"{prover_name}-v0\", problem_list=[test_problem])\n",
    "gain, num_steps = age_agent_episode(env)\n",
    "# the number of steps is different, because this version of iProver\n",
    "# relies on superposition instead of resolution\n",
    "if gain > 0:\n",
    "    print(f\"Proof found in {num_steps} steps\")"
   ]
  }
 ],
 "metadata": {
  "kernelspec": {
   "display_name": "Python 3 (ipykernel)",
   "language": "python",
   "name": "python3"
  },
  "language_info": {
   "codemirror_mode": {
    "name": "ipython",
    "version": 3
   },
   "file_extension": ".py",
   "mimetype": "text/x-python",
   "name": "python",
   "nbconvert_exporter": "python",
   "pygments_lexer": "ipython3",
   "version": "3.10.7"
  },
  "name": "example.ipynb"
 },
 "nbformat": 4,
 "nbformat_minor": 5
}
