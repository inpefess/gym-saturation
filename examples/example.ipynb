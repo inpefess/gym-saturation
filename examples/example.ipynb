{
 "cells": [
  {
   "cell_type": "markdown",
   "id": "0f03a319-2e81-4b99-b580-5b8b58fe577a",
   "metadata": {
    "jupyter": {
     "outputs_hidden": false
    },
    "slideshow": {
     "slide_type": "slide"
    },
    "tags": []
   },
   "source": [
    "<pre>\n",
    "Copyright 2021-2023 Boris Shminke\n",
    "\n",
    "Licensed under the Apache License, Version 2.0 (the \"License\");\n",
    "you may not use this file except in compliance with the License.\n",
    "You may obtain a copy of the License at\n",
    "\n",
    "    https://www.apache.org/licenses/LICENSE-2.0\n",
    "\n",
    "Unless required by applicable law or agreed to in writing, software\n",
    "distributed under the License is distributed on an \"AS IS\" BASIS,\n",
    "WITHOUT WARRANTIES OR CONDITIONS OF ANY KIND, either express or implied.\n",
    "See the License for the specific language governing permissions and\n",
    "limitations under the License.\n",
    "</pre>"
   ]
  },
  {
   "cell_type": "code",
   "execution_count": 1,
   "id": "1eac75c1-5589-4164-851c-b98e6042d69d",
   "metadata": {
    "collapsed": false,
    "jupyter": {
     "outputs_hidden": false
    },
    "tags": []
   },
   "outputs": [],
   "source": [
    "# we will prove a very basic statement from group theory\n",
    "from gym_saturation.utils import MOCK_TPTP_PROBLEM"
   ]
  },
  {
   "cell_type": "code",
   "execution_count": 2,
   "id": "e53a091e-7b64-485c-bfb4-ea7628b8f058",
   "metadata": {
    "collapsed": false,
    "jupyter": {
     "outputs_hidden": false
    },
    "slideshow": {
     "slide_type": "slide"
    },
    "tags": []
   },
   "outputs": [
    {
     "name": "stdout",
     "output_type": "stream",
     "text": [
      "cnf(associativity, axiom, mult(X, mult(Y, Z)) = mult(mult(X, Y), Z)).\n",
      "cnf(left_identity, axiom, mult(e, X) = X).\n",
      "cnf(left_inverse, axiom, mult(inv(X), X) = e).\n",
      "cnf(idempotent_element, hypothesis, mult(a, a) = a).\n",
      "cnf(negated_conjecture, negated_conjecture, ~ a = e).\n"
     ]
    }
   ],
   "source": [
    "# \"any idempotent item is the identity\"\n",
    "!cat {MOCK_TPTP_PROBLEM}"
   ]
  },
  {
   "cell_type": "code",
   "execution_count": 3,
   "id": "ac9c7909-4b12-4a54-b1c5-401d02e6d833",
   "metadata": {
    "collapsed": false,
    "jupyter": {
     "outputs_hidden": false
    },
    "tags": []
   },
   "outputs": [
    {
     "name": "stdout",
     "output_type": "stream",
     "text": [
      "Vampire 4.7 (commit 2d02e4655 on 2022-07-11 21:15:24 +0200)\n",
      "Linked with Z3 4.8.13.0 f03d756e086f81f2596157241e0decfb1c982299 z3-4.8.4-5390-gf03d756e0\n"
     ]
    }
   ],
   "source": [
    "# we have a vampire installed in this container\n",
    "!vampire --version"
   ]
  },
  {
   "cell_type": "code",
   "execution_count": 4,
   "id": "8f3e1d18",
   "metadata": {
    "collapsed": false,
    "jupyter": {
     "outputs_hidden": false
    },
    "tags": []
   },
   "outputs": [
    {
     "name": "stdout",
     "output_type": "stream",
     "text": [
      "starting hypotheses:\n",
      "cnf(1, lemma, mult(X0,mult(X1,X2)) = mult(mult(X0,X1),X2), inference(input, [], [])).\n",
      "cnf(2, lemma, mult(e,X0) = X0, inference(input, [], [])).\n",
      "cnf(3, lemma, e = mult(inv(X0),X0), inference(input, [], [])).\n",
      "cnf(4, lemma, a = mult(a,a), inference(input, [], [])).\n",
      "cnf(5, lemma, e != a, inference(input, [], [])).\n"
     ]
    }
   ],
   "source": [
    "# then we create and reset a Gymnasium environment\n",
    "import gymnasium as gym\n",
    "\n",
    "prover_name = \"Vampire\"\n",
    "env = gym.make(f\"{prover_name}-v0\")\n",
    "observation, info = env.reset()\n",
    "# we can render the environment in a human readable form\n",
    "print(\"starting hypotheses:\")\n",
    "env.render()"
   ]
  },
  {
   "cell_type": "code",
   "execution_count": 5,
   "id": "e25f8e21-548d-49e3-885b-e103feb1d550",
   "metadata": {
    "tags": []
   },
   "outputs": [],
   "source": [
    "def age_agent_episode(env: gym.Env) -> tuple[float, int, gym.core.ObsType]:\n",
    "    \"\"\"\n",
    "    Interact with a given environment using the 'age' agent.\n",
    "\n",
    "    'Age' agent always selects clauses for inference\n",
    "    in the order they appeared in current proof attempt\n",
    "\n",
    "    :param env: an environment\n",
    "    :returns: a tuple of\n",
    "        (number of steps in the episode, its gain, and the last observation)\n",
    "    \"\"\"\n",
    "    action, num_steps, gain = 0, 0, 0\n",
    "    terminated, truncated = False, False\n",
    "    observation, info = env.reset()\n",
    "    while not (terminated or truncated):\n",
    "        # sometimes a prover can process an action automatically\n",
    "        if observation[\"action_mask\"][action] == 1.0:\n",
    "            observation, reward, terminated, truncated, info = env.step(action)\n",
    "            gain += reward\n",
    "            num_steps += 1\n",
    "        action += 1\n",
    "    return gain, num_steps, observation"
   ]
  },
  {
   "cell_type": "code",
   "execution_count": 6,
   "id": "70416c83-1671-4ba6-a777-b062252a5d50",
   "metadata": {
    "tags": []
   },
   "outputs": [
    {
     "name": "stdout",
     "output_type": "stream",
     "text": [
      "Proof found in 6 steps\n"
     ]
    }
   ],
   "source": [
    "gain, num_steps, last_observation = age_agent_episode(env)\n",
    "if gain > 0:\n",
    "    print(f\"Proof found in {num_steps} steps\")"
   ]
  },
  {
   "cell_type": "code",
   "execution_count": 7,
   "id": "949f06ae-8f6b-42d1-9635-58827246802f",
   "metadata": {
    "collapsed": false,
    "jupyter": {
     "outputs_hidden": false
    },
    "tags": []
   },
   "outputs": [
    {
     "name": "stdout",
     "output_type": "stream",
     "text": [
      "cnf(1, lemma, mult(X0,mult(X1,X2)) = mult(mult(X0,X1),X2), inference(input, [], [])).\n",
      "cnf(10, lemma, mult(inv(X0),mult(X0,X1)) = mult(e,X1), inference(superposition, [], [1, 3])).\n",
      "cnf(2, lemma, mult(e,X0) = X0, inference(input, [], [])).\n",
      "cnf(11, lemma, mult(inv(X0),mult(X0,X1)) = X1, inference(forward_demodulation, [], [10, 2])).\n",
      "cnf(4, lemma, a = mult(a,a), inference(input, [], [])).\n",
      "cnf(17, lemma, a = mult(inv(a),a), inference(superposition, [], [11, 4])).\n",
      "cnf(3, lemma, e = mult(inv(X0),X0), inference(input, [], [])).\n",
      "cnf(19, lemma, e = a, inference(forward_demodulation, [], [17, 3])).\n",
      "cnf(5, lemma, e != a, inference(input, [], [])).\n",
      "cnf(20, lemma, $false, inference(subsumption_resolution, [], [19, 5])).\n"
     ]
    }
   ],
   "source": [
    "# the package also provides a utility function\n",
    "# for extracting only clauses which became parts of the proof\n",
    "# (some steps might be unnecessary to find the proof)\n",
    "from gym_saturation.utils import get_tstp_proof\n",
    "\n",
    "print(get_tstp_proof(last_observation[\"real_obs\"]))"
   ]
  },
  {
   "cell_type": "code",
   "execution_count": 8,
   "id": "339fd11b-24a3-4e13-9273-1679e9ae65dd",
   "metadata": {
    "collapsed": false,
    "jupyter": {
     "outputs_hidden": false
    },
    "tags": []
   },
   "outputs": [
    {
     "name": "stdout",
     "output_type": "stream",
     "text": [
      "\n",
      "%---------------- iProver v3.7 (post CASC-J11 2022) ----------------%\n",
      "\n",
      "iproveropt [options] [filename]\n",
      "\n",
      "\n",
      "\n",
      "%---------------- Input Options ----------------%\n",
      "\n",
      "  --out_options <none|control|all>\n"
     ]
    }
   ],
   "source": [
    "# we have an iProver in this container\n",
    "# (built from https://gitlab.com/korovin/iprover/-/commit/32c76fc0ec665a06324d11dc9d4bf902871d5f15)\n",
    "!iproveropt --help | head"
   ]
  },
  {
   "cell_type": "code",
   "execution_count": 9,
   "id": "8c5db6c2-ed8d-45bc-9fe9-e079eda2ab30",
   "metadata": {
    "tags": []
   },
   "outputs": [],
   "source": [
    "prover_name = \"iProver\""
   ]
  },
  {
   "cell_type": "code",
   "execution_count": 10,
   "id": "762c090e-43cf-4cd7-bfde-0511c9fecceb",
   "metadata": {
    "tags": []
   },
   "outputs": [],
   "source": [
    "import nest_asyncio\n",
    "\n",
    "# iProver runs asynchronously with the main Python thread\n",
    "# so we need to enable nested async loops (one is where Jupyter is running)\n",
    "nest_asyncio.apply()"
   ]
  },
  {
   "cell_type": "code",
   "execution_count": 11,
   "id": "28c8fa6b-8952-4918-bbab-b6cfb1f2ad29",
   "metadata": {
    "tags": []
   },
   "outputs": [
    {
     "name": "stdout",
     "output_type": "stream",
     "text": [
      "Proof found in 11 steps\n"
     ]
    }
   ],
   "source": [
    "# and we can do the same experiment as we did with Vampire\n",
    "env = gym.make(f\"{prover_name}-v0\")\n",
    "gain, num_steps, last_observation = age_agent_episode(env)\n",
    "# the number of steps is different, because this version of iProver\n",
    "# relies on superposition instead of resolution\n",
    "if gain > 0:\n",
    "    print(f\"Proof found in {num_steps} steps\")"
   ]
  },
  {
   "cell_type": "code",
   "execution_count": 12,
   "id": "d991c23f-3e35-48ae-a1d1-879bc5980e4f",
   "metadata": {
    "tags": []
   },
   "outputs": [
    {
     "name": "stdout",
     "output_type": "stream",
     "text": [
      "cnf(c_49, lemma, mult(mult(X0,X1),X2)=mult(X0,mult(X1,X2)), inference(input, [], [])).\n",
      "cnf(c_62, lemma, mult(inv(X0),mult(X0,X1))=mult(e,X1), inference(superposition, [], [c_51, c_49])).\n",
      "cnf(c_50, lemma, mult(e,X0)=X0, inference(input, [], [])).\n",
      "cnf(c_70, lemma, mult(inv(X0),mult(X0,X1))=X1, inference(demodulation, [], [c_62, c_50])).\n",
      "cnf(c_52, lemma, mult(a,a)=a, inference(input, [], [])).\n",
      "cnf(c_74, lemma, mult(inv(a),a)=a, inference(superposition, [], [c_52, c_70])).\n",
      "cnf(c_51, lemma, mult(inv(X0),X0)=e, inference(input, [], [])).\n",
      "cnf(c_85, lemma, e=a, inference(demodulation, [], [c_74, c_51])).\n",
      "cnf(c_53, lemma, e!=a, inference(input, [], [])).\n",
      "cnf(c_86, lemma, $false, inference(forward_subsumption_resolution, [], [c_85, c_53])).\n"
     ]
    }
   ],
   "source": [
    "print(get_tstp_proof(last_observation[\"real_obs\"]))"
   ]
  }
 ],
 "metadata": {
  "kernelspec": {
   "display_name": "Python 3 (ipykernel)",
   "language": "python",
   "name": "python3"
  },
  "language_info": {
   "codemirror_mode": {
    "name": "ipython",
    "version": 3
   },
   "file_extension": ".py",
   "mimetype": "text/x-python",
   "name": "python",
   "nbconvert_exporter": "python",
   "pygments_lexer": "ipython3",
   "version": "3.10.7"
  },
  "name": "example.ipynb"
 },
 "nbformat": 4,
 "nbformat_minor": 5
}
