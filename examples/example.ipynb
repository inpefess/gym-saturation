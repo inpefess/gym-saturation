{
 "cells": [
  {
   "cell_type": "code",
   "execution_count": null,
   "id": "f346c318",
   "metadata": {
    "collapsed": false
   },
   "outputs": [],
   "source": [
    "# Copyright 2021-2022 Boris Shminke\n",
    "#\n",
    "# Licensed under the Apache License, Version 2.0 (the \"License\");\n",
    "# you may not use this file except in compliance with the License.\n",
    "# You may obtain a copy of the License at\n",
    "#\n",
    "#     https://www.apache.org/licenses/LICENSE-2.0\n",
    "#\n",
    "# Unless required by applicable law or agreed to in writing, software\n",
    "# distributed under the License is distributed on an \"AS IS\" BASIS,\n",
    "# WITHOUT WARRANTIES OR CONDITIONS OF ANY KIND, either express or implied.\n",
    "# See the License for the specific language governing permissions and\n",
    "# limitations under the License."
   ]
  },
  {
   "cell_type": "code",
   "execution_count": 1,
   "id": "3d5938d5",
   "metadata": {
    "collapsed": false,
    "jupyter": {
     "outputs_hidden": false
    }
   },
   "outputs": [],
   "source": [
    "# saturation prover environment can be created\n",
    "# as any other OpenAI Gym environment\n",
    "import gym\n",
    "import os\n",
    "from glob import glob\n",
    "import sys\n",
    "# this example uses package's resources\n",
    "# one can indicate the path to unpacked (TPTP)[http://tptp.org/] instead\n",
    "# it's obligatory to set the list of problems\n",
    "# Here are CNF problems from TPTP\n",
    "if sys.version_info.major == 3 and sys.version_info.minor >= 9:\n",
    "    from importlib.resources import files\n",
    "else:\n",
    "    from importlib_resources import files\n",
    "\n",
    "problem_list = sorted(glob(\n",
    "    os.path.join(\n",
    "        files(\n",
    "            \"gym_saturation\"\n",
    "        ).joinpath(os.path.join(\n",
    "            \"resources\", \"TPTP-mock\"\n",
    "        ),\n",
    "        os.path.join(\"Problems\", \"*\", \"*-*.p\")\n",
    "    )\n",
    ")))\n",
    "env = gym.make(\n",
    "    \"GymSaturation-v0\",\n",
    "    problem_list=problem_list\n",
    ")"
   ]
  },
  {
   "cell_type": "code",
   "execution_count": 2,
   "id": "383de535",
   "metadata": {
    "collapsed": false,
    "jupyter": {
     "outputs_hidden": false
    }
   },
   "outputs": [
    {
     "name": "stdout",
     "output_type": "stream",
     "text": [
      "2\n"
     ]
    }
   ],
   "source": [
    "# to make results reproducible, let's set the seed\n",
    "print(env.seed(2))"
   ]
  },
  {
   "cell_type": "code",
   "execution_count": 3,
   "id": "2879e057",
   "metadata": {
    "collapsed": false,
    "jupyter": {
     "outputs_hidden": false
    }
   },
   "outputs": [],
   "source": [
    "# parsing is done with `lark` package which sometimes might be slow\n",
    "# reimplementing parsing in a faster language than Python might help\n",
    "obs = env.reset()"
   ]
  },
  {
   "cell_type": "code",
   "execution_count": 4,
   "id": "2e2332c7",
   "metadata": {
    "collapsed": false,
    "jupyter": {
     "outputs_hidden": false
    }
   },
   "outputs": [
    {
     "name": "stdout",
     "output_type": "stream",
     "text": [
      "cnf(b_equals_bb, hypothesis, equal_sets(b, bb)).\n",
      "cnf(element_of_b, hypothesis, member(element_of_b, b)).\n",
      "cnf(prove_element_of_bb, negated_conjecture, ~member(element_of_b, bb)).\n",
      "cnf(membership_in_subsets, axiom, ~member(X0, X1) | ~subset(X1, X2) | member(X0, X2)).\n",
      "cnf(subsets_axiom1, axiom, subset(X4, X3) | member(member_of_1_not_of_2(X4,X3), X4)).\n",
      "cnf(subsets_axiom2, axiom, ~member(member_of_1_not_of_2(X6,X5), X5) | subset(X6, X5)).\n",
      "cnf(set_equal_sets_are_subsets1, axiom, ~equal_sets(X8, X7) | subset(X8, X7)).\n",
      "cnf(set_equal_sets_are_subsets2, axiom, ~equal_sets(X9, X10) | subset(X10, X9)).\n",
      "cnf(subsets_are_set_equal_sets, axiom, ~subset(X12, X11) | ~subset(X11, X12) | equal_sets(X11, X12)).\n"
     ]
    }
   ],
   "source": [
    "# during the reset a problem is chosen at random\n",
    "print(env.render())"
   ]
  },
  {
   "cell_type": "code",
   "execution_count": 5,
   "id": "30d37c0a",
   "metadata": {
    "collapsed": false,
    "jupyter": {
     "outputs_hidden": false
    }
   },
   "outputs": [
    {
     "name": "stdout",
     "output_type": "stream",
     "text": [
      "dict_keys(['real_obs', 'action_mask'])\n",
      "[1. 1. 1. 1. 1. 1. 1. 1. 1. 0. 0. 0. 0. 0. 0. 0. 0. 0. 0. 0.]\n",
      "b'{\"literals\":[{\"negated\":false,\"atom\":{\"name\":\"equal_sets\",\"arguments\":[{\"name\":\"b\",\"arguments\":[]},{\"name\":\"bb\",\"arguments\":[]}]}}],\"label\":\"b_equals_bb\",\"role\":\"hypothesis\",\"inference_parents\":[],\"inference_rule\":null,\"processed\":false,\"birth_step\":0}'\n"
     ]
    }
   ],
   "source": [
    "# observation is a dict with two keys: \"action_mask\" and \"real_obs\"\n",
    "# \"action_mask\" is 1 for actions an agent can choose and 0 for the rest\n",
    "# \"real_obs\" is a JSON representation of logical clauses\n",
    "print(obs.keys())\n",
    "print(obs[\"action_mask\"][:20])\n",
    "print(obs[\"real_obs\"][0])"
   ]
  },
  {
   "cell_type": "code",
   "execution_count": 6,
   "id": "ff08a9d8",
   "metadata": {
    "collapsed": false,
    "jupyter": {
     "outputs_hidden": false
    }
   },
   "outputs": [
    {
     "name": "stdout",
     "output_type": "stream",
     "text": [
      "Discrete(100000)\n",
      "9.0\n",
      "9.0\n"
     ]
    }
   ],
   "source": [
    " # possible actions are indices of not processed clauses from the state\n",
    "# formally, action space is a large enough discrete\n",
    "print(env.action_space)\n",
    "# but the number of ones in the mask\n",
    "print(obs[\"action_mask\"].sum())\n",
    "# equals to number of not processed clauses\n",
    "print(sum(\n",
    "    [1.0 for clause in obs[\"real_obs\"] if b'\"processed\": True' not in clause]\n",
    "))"
   ]
  },
  {
   "cell_type": "code",
   "execution_count": 7,
   "id": "e0c3d236",
   "metadata": {
    "collapsed": false,
    "jupyter": {
     "outputs_hidden": false
    }
   },
   "outputs": [
    {
     "name": "stdout",
     "output_type": "stream",
     "text": [
      "[b'{\"literals\":[{\"negated\":false,\"atom\":{\"name\":\"equal_sets\",\"arguments\":[{\"name\":\"b\",\"arguments\":[]},{\"name\":\"bb\",\"arguments\":[]}]}}],\"label\":\"b_equals_bb\",\"role\":\"hypothesis\",\"inference_parents\":[],\"inference_rule\":null,\"processed\":false,\"birth_step\":0}', b'{\"literals\":[{\"negated\":false,\"atom\":{\"name\":\"member\",\"arguments\":[{\"name\":\"element_of_b\",\"arguments\":[]},{\"name\":\"b\",\"arguments\":[]}]}}],\"label\":\"element_of_b\",\"role\":\"hypothesis\",\"inference_parents\":[],\"inference_rule\":null,\"processed\":false,\"birth_step\":0}', b'{\"literals\":[{\"negated\":true,\"atom\":{\"name\":\"member\",\"arguments\":[{\"name\":\"element_of_b\",\"arguments\":[]},{\"name\":\"bb\",\"arguments\":[]}]}}],\"label\":\"prove_element_of_bb\",\"role\":\"negated_conjecture\",\"inference_parents\":[],\"inference_rule\":null,\"processed\":false,\"birth_step\":0}', b'{\"literals\":[{\"negated\":true,\"atom\":{\"name\":\"member\",\"arguments\":[{\"name\":\"X0\"},{\"name\":\"X1\"}]}},{\"negated\":true,\"atom\":{\"name\":\"subset\",\"arguments\":[{\"name\":\"X1\"},{\"name\":\"X2\"}]}},{\"negated\":false\n"
     ]
    }
   ],
   "source": [
    "# only \"ansi\" and \"human\" rendering methods are implemented\n",
    "# \"human\" (default) returns TPTP representation\n",
    "# \"ansi\" returns a JSON string representing the state\n",
    "print(env.render(\"ansi\")[:1000])"
   ]
  },
  {
   "cell_type": "code",
   "execution_count": 8,
   "id": "ee381dd1",
   "metadata": {
    "collapsed": false,
    "jupyter": {
     "outputs_hidden": false
    }
   },
   "outputs": [],
   "source": [
    "# the package includes a simple episode function\n",
    "from gym_saturation.agent_testing import episode\n",
    "# and an agent selecting the shortest clause five times\n",
    "# and then once --- the oldest clause\n",
    "from gym_saturation.agent_testing import SizeAgeAgent\n",
    "\n",
    "env.unwrapped.problem_list = [\n",
    "    files(\"gym_saturation\")\n",
    "    .joinpath(\n",
    "        os.path.join(\"resources\", \"TPTP-mock\", \"Problems\", \"SET\", \"SET001-1.p\")\n",
    "    )\n",
    "]\n",
    "# this agent manages to solve a simple problem from TPTP\n",
    "episode(env, SizeAgeAgent(5, 1))"
   ]
  },
  {
   "cell_type": "code",
   "execution_count": 9,
   "id": "22133828",
   "metadata": {
    "collapsed": false,
    "jupyter": {
     "outputs_hidden": false
    }
   },
   "outputs": [
    {
     "name": "stdout",
     "output_type": "stream",
     "text": [
      "10\n"
     ]
    }
   ],
   "source": [
    "# the proof here consists of only three steps\n",
    "# but this agent finds it only after 11 steps\n",
    "# a trained DL agent might have done better\n",
    "print(env._elapsed_steps)"
   ]
  },
  {
   "cell_type": "code",
   "execution_count": 10,
   "id": "b5934df8",
   "metadata": {
    "collapsed": false,
    "jupyter": {
     "outputs_hidden": false
    }
   },
   "outputs": [
    {
     "name": "stdout",
     "output_type": "stream",
     "text": [
      "cnf(x7b469f0d_b821_11ec_a9ea_0f4925154247, lemma, ~subset(b, X2) | member(element_of_b, X2), inference(resolution, [], [element_of_b, membership_in_subsets])).\n",
      "cnf(x7b469ee7_b821_11ec_a9ea_0f4925154247, lemma, subset(b, bb), inference(resolution, [], [b_equals_bb, set_equal_sets_are_subsets1])).\n",
      "cnf(x7b469f96_b821_11ec_a9ea_0f4925154247, lemma, ~subset(b, bb), inference(resolution, [], [prove_element_of_bb, x7b469f0d_b821_11ec_a9ea_0f4925154247])).\n",
      "cnf(x7b469feb_b821_11ec_a9ea_0f4925154247, lemma, $false, inference(resolution, [], [x7b469ee7_b821_11ec_a9ea_0f4925154247, x7b469f96_b821_11ec_a9ea_0f4925154247])).\n"
     ]
    }
   ],
   "source": [
    "# one can now check the TSTP proof found\n",
    "print(env.tstp_proof)"
   ]
  },
  {
   "cell_type": "code",
   "execution_count": 11,
   "id": "3f25c0c4",
   "metadata": {
    "collapsed": false,
    "jupyter": {
     "outputs_hidden": false
    }
   },
   "outputs": [
    {
     "name": "stdout",
     "output_type": "stream",
     "text": [
      "cnf(a1, hypothesis, q(a)).\n",
      "cnf(a2, hypothesis, ~q(a) | f(X0) = X0).\n",
      "cnf(a3, hypothesis, p(X1) | p(f(a))).\n",
      "cnf(c, negated_conjecture, ~p(X2) | ~p(f(X2))).\n",
      "cnf(x7c641060_b821_11ec_a9ea_0f4925154247, lemma, p(f(a)), inference(factoring, [], [a3])).\n",
      "cnf(x7c6410a9_b821_11ec_a9ea_0f4925154247, lemma, f(X0) = X0, inference(resolution, [], [a1, a2])).\n",
      "cnf(x7c641081_b821_11ec_a9ea_0f4925154247, lemma, ~p(a), inference(resolution, [], [x7c641060_b821_11ec_a9ea_0f4925154247, c])).\n",
      "cnf(x7c64115f_b821_11ec_a9ea_0f4925154247, lemma, p(a), inference(paramodulation, [], [x7c641060_b821_11ec_a9ea_0f4925154247, x7c6410a9_b821_11ec_a9ea_0f4925154247])).\n",
      "cnf(x7c641184_b821_11ec_a9ea_0f4925154247, lemma, $false, inference(resolution, [], [x7c641081_b821_11ec_a9ea_0f4925154247, x7c64115f_b821_11ec_a9ea_0f4925154247])).\n",
      "5 9\n"
     ]
    }
   ],
   "source": [
    "# paramodulation test\n",
    "env.unwrapped.problem_list = [\n",
    "    files(\"gym_saturation\")\n",
    "    .joinpath(\n",
    "        os.path.join(\"resources\", \"TPTP-mock\", \"Problems\", \"TST\", \"TST002-1.p\")\n",
    "    )\n",
    "]\n",
    "env.reset()\n",
    "print(env.render())\n",
    "episode(env, SizeAgeAgent(5, 1))\n",
    "# here the proof consists of five steps\n",
    "# but the agent needs ten\n",
    "print(env.tstp_proof)\n",
    "print(\n",
    "    len(env.tstp_proof.split(\"\\n\")), \n",
    "    env._elapsed_steps\n",
    ")"
   ]
  }
 ],
 "metadata": {
  "kernelspec": {
   "argv": [
    "python",
    "-m",
    "ipykernel_launcher",
    "-f",
    "{connection_file}"
   ],
   "display_name": "Python 3 (ipykernel)",
   "env": null,
   "interrupt_mode": "signal",
   "language": "python",
   "metadata": {
    "debugger": true
   },
   "name": "python3"
  },
  "language_info": {
   "codemirror_mode": {
    "name": "ipython",
    "version": 3
   },
   "file_extension": ".py",
   "mimetype": "text/x-python",
   "name": "python",
   "nbconvert_exporter": "python",
   "pygments_lexer": "ipython3",
   "version": "3.9.7"
  },
  "name": "example.ipynb"
 },
 "nbformat": 4,
 "nbformat_minor": 5
}
