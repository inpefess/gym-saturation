{
 "cells": [
  {
   "cell_type": "code",
   "execution_count": 1,
   "id": "ef190436",
   "metadata": {
    "collapsed": false
   },
   "outputs": [],
   "source": [
    "# saturation prover environment can be created\n",
    "# as any other OpenAI Gym environment\n",
    "import gym\n",
    "import os\n",
    "from glob import glob\n",
    "\n",
    "# suppose that (TPTP)[http://tptp.org/] archive was unpacked to ~/Downloads\n",
    "tptp_folder = os.path.join(os.environ[\"HOME\"], \"Downloads\", \"TPTP-v7.4.0\")\n",
    "# it's obligatory to set the maximal number of steps of saturation algorithm\n",
    "# and the list of problems. Here are CNF problems from TPTP\n",
    "problem_list = glob(os.path.join(tptp_folder, \"Problems/*/*-*.p\"))\n",
    "env = gym.make(\n",
    "    \"gym_saturation:saturation-v0\",\n",
    "    step_limit=100,\n",
    "    problem_list=problem_list\n",
    ")"
   ]
  },
  {
   "cell_type": "code",
   "execution_count": 2,
   "id": "a5b5854f",
   "metadata": {
    "collapsed": false
   },
   "outputs": [
    {
     "name": "stdout",
     "output_type": "stream",
     "text": [
      "3\n"
     ]
    }
   ],
   "source": [
    "# to make results reproducible, let's set the seed\n",
    "print(env.seed(3))"
   ]
  },
  {
   "cell_type": "code",
   "execution_count": 3,
   "id": "de85bc19",
   "metadata": {
    "collapsed": false
   },
   "outputs": [],
   "source": [
    "# when resettig the environment one may pass an optional argument ---\n",
    "# a name of an exact problem from TPTP\n",
    "# (if omitted, a problem will be chosen at random)\n",
    "# parsing is done with `lark` package which sometimes might be slow\n",
    "# reimplementing parsing in a faster language than Python might help\n",
    "state = env.reset()"
   ]
  },
  {
   "cell_type": "code",
   "execution_count": 4,
   "id": "2d607d14",
   "metadata": {
    "collapsed": false
   },
   "outputs": [
    {
     "name": "stdout",
     "output_type": "stream",
     "text": [
      "GEO156-1.p\n"
     ]
    }
   ],
   "source": [
    "# during the reset a problem is chosen at random\n",
    "print(os.path.basename(env.problem))"
   ]
  },
  {
   "cell_type": "code",
   "execution_count": 5,
   "id": "adb5c096",
   "metadata": {
    "collapsed": false
   },
   "outputs": [
    {
     "name": "stdout",
     "output_type": "stream",
     "text": [
      "{'class': 'Literal', 'negated': False, 'atom': {'class': 'Predicate', 'name': 'equidistant', 'arguments': [{'class': 'Variable', 'name': 'X0'}, {'class': 'Variable', 'name': 'X1'}, {'class': 'Variable', 'name': 'X1'}, {'class': 'Variable', 'name': 'X0'}]}}\n"
     ]
    }
   ],
   "source": [
    "# state is a list of dictionaries, representing logical clauses\n",
    "print(state[0][\"literals\"][0])"
   ]
  },
  {
   "cell_type": "code",
   "execution_count": 6,
   "id": "db46342b",
   "metadata": {
    "collapsed": false
   },
   "outputs": [
    {
     "name": "stdout",
     "output_type": "stream",
     "text": [
      "[0, 1, 2, 3, 4, 5, 6, 7, 8, 9, 10, 11, 12, 13, 14, 15, 16, 17, 18]\n"
     ]
    }
   ],
   "source": [
    "# possible actions are indices of not processed clauses from the state\n",
    "print(env.action_space)"
   ]
  },
  {
   "cell_type": "code",
   "execution_count": 7,
   "id": "a8a723b4",
   "metadata": {
    "collapsed": false
   },
   "outputs": [
    {
     "name": "stdout",
     "output_type": "stream",
     "text": [
      "cnf(reflexivity_for_equidistance, hypothesis, equidistant(X0,X1,X1,X0) ).\n",
      "cnf(transitivity_for_equidistance, hypothesis, ~equidistant(X2,X3,X4,X5) |~equidistant(X2,X3,X6,X7) |equidistant(X4,X5,X6,X7) ).\n",
      "cnf(identity_for_equidistance, hypothesis, ~equidistant(X8,X9,X10,X10) |=(X8,X9) ).\n",
      "cnf(segment_construction1, hypothesis, between(X11,X12,extension(X11,X12,X13,X14)) ).\n",
      "cnf(segment_construction2, hypothesis, equidistant(X15,extension(X16,X15,X17,X18),X17,X18) ).\n",
      "cnf(outer_five_segment, hypothesis, ~equidistant(X19,X20,X21,X22) |~equidistant(X20,X23,X22,X24) |~equidistant(X19,X25,X21,X26) |~equidistant(X20,X25,X22,X26) |~between(X19,X20,X23) |~between(X21,X22,X24) |=(X19,X20) |equidistant(X23,X25,X24,X26) ).\n",
      "cnf(identity_for_betweeness, hypothesis, ~between(X27,X28,X27) |=(X27,X28) ).\n",
      "cnf(inner_pasch1, hypothesis, ~between(X29,X30,X31) |~between(X32,X33,X31) |between(X30,inner_pasch(X29,X30,X31,X33,X32),X32) ).\n",
      "cnf(inner_pasch2, hypothesis, ~between(X34,X35,X36) |~between(X37,X38,X36) |between(X38,inner_pasch(X34,X35,X36,X38,X37),X34) ).\n",
      "cnf(lower_dimension1, hypothesis, ~between(lower_dimension_point_1,lower_dimension_point_2,lower_dimension_point_3) ).\n",
      "cnf(lower_dimension2, hypothesis, ~between(lower_dimension_point_2,lower_dimension_point_3,lower_dimension_point_1) ).\n",
      "cnf(lower_dimension3, hypothesis, ~between(lower_dimension_point_3,lower_dimension_point_1,lower_dimension_point_2) ).\n",
      "cnf(upper_dimension, hypothesis, ~equidistant(X39,X40,X39,X41) |~equidistant(X42,X40,X42,X41) |~equidistant(X43,X40,X43,X41) |between(X39,X42,X43) |between(X42,X43,X39) |between(X43,X39,X42) |=(X40,X41) ).\n",
      "cnf(euclid1, hypothesis, ~between(X44,X45,X46) |~between(X47,X45,X48) |=(X44,X45) |between(X44,X47,euclid1(X44,X47,X45,X48,X46)) ).\n",
      "cnf(euclid2, hypothesis, ~between(X49,X50,X51) |~between(X52,X50,X53) |=(X49,X50) |between(X49,X53,euclid2(X49,X52,X50,X53,X51)) ).\n",
      "cnf(euclid3, hypothesis, ~between(X54,X55,X56) |~between(X57,X55,X58) |=(X54,X55) |between(euclid1(X54,X57,X55,X58,X56),X56,euclid2(X54,X57,X55,X58,X56)) ).\n",
      "cnf(continuity1, hypothesis, ~equidistant(X59,X60,X59,X61) |~equidistant(X59,X62,X59,X63) |~between(X59,X60,X62) |~between(X60,X64,X62) |between(X61,continuous(X59,X60,X61,X64,X62,X63),X63) ).\n",
      "cnf(continuity2, hypothesis, ~equidistant(X65,X66,X65,X67) |~equidistant(X65,X68,X65,X69) |~between(X65,X66,X68) |~between(X66,X70,X68) |equidistant(X65,X70,X65,continuous(X65,X66,X67,X70,X68,X69)) ).\n",
      "cnf(insertion, hypothesis, =(insertion(X71,X72,X73,X74),extension(extension(X72,X71,lower_dimension_point_1,lower_dimension_point_2),X71,X73,X74)) ).\n"
     ]
    }
   ],
   "source": [
    "# only \"ansi\" and \"human\" rendering methods are implemented\n",
    "# \"human\" returns TPTP representation\n",
    "print(env.render())"
   ]
  },
  {
   "cell_type": "code",
   "execution_count": 8,
   "id": "50cb8681",
   "metadata": {
    "collapsed": false
   },
   "outputs": [
    {
     "name": "stdout",
     "output_type": "stream",
     "text": [
      "[{'class': 'Clause', 'literals': [{'class': 'Literal', 'negated': False, 'atom': {'class': 'Predicate', 'name': 'equidistant', 'arguments': [{'class': 'Variable', 'name': 'X0'}, {'class': 'Variable', 'name': 'X1'}, {'class': 'Variable', 'name': 'X1'}, {'class': 'Variable', 'name': 'X0'}]}}], 'label': 'reflexivity_for_equidistance', 'birth_step': 0, 'processed': False, 'inference_parents': [], 'inference_rule': None}, {'class': 'Clause', 'literals': [{'class': 'Literal', 'negated': True, 'atom': {'class': 'Predicate', 'name': 'equidistant', 'arguments': [{'class': 'Variable', 'name': 'X2'}, {'class': 'Variable', 'name': 'X3'}, {'class': 'Variable', 'name': 'X4'}, {'class': 'Variable', 'name': 'X5'\n"
     ]
    }
   ],
   "source": [
    "# \"ansi\" returns a JSON string representing the state\n",
    "print(env.render(\"ansi\")[:705])\n"
   ]
  },
  {
   "cell_type": "code",
   "execution_count": 9,
   "id": "2f1c02f7",
   "metadata": {
    "collapsed": false
   },
   "outputs": [
    {
     "name": "stdout",
     "output_type": "stream",
     "text": [
      "True 1.0\n"
     ]
    }
   ],
   "source": [
    "# the package includes a simple episode function\n",
    "from gym_saturation.policy_testing import episode\n",
    "# and an example policy, selecting the shortest clause\n",
    "from gym_saturation.policy_testing import size_policy\n",
    "\n",
    "env, episode_memory = episode(\n",
    "    problem_filename=os.path.join(tptp_folder, \"Problems\", \"SET\", \"SET001-1.p\"),\n",
    "    step_limit=15,\n",
    "    policy=size_policy\n",
    ")\n",
    "# this policy manages to solve a simple problem from TPTP\n",
    "print(episode_memory[-1].done, episode_memory[-1].reward)\n",
    "\n"
   ]
  },
  {
   "cell_type": "code",
   "execution_count": 10,
   "id": "a345f7ea",
   "metadata": {
    "collapsed": false
   },
   "outputs": [
    {
     "name": "stdout",
     "output_type": "stream",
     "text": [
      "15\n"
     ]
    }
   ],
   "source": [
    "# the proof here consists of only three steps\n",
    "# but a naïve clause size policy finds it only after 15 steps\n",
    "# a trained DL policy might have done better\n",
    "print(len(episode_memory))"
   ]
  },
  {
   "cell_type": "code",
   "execution_count": 11,
   "id": "a90b7430",
   "metadata": {
    "collapsed": false
   },
   "outputs": [
    {
     "name": "stdout",
     "output_type": "stream",
     "text": [
      "cnf(inferred_27, hypothesis, $false, inference(resolution, [], [prove_element_of_bb,inferred_23])).\n",
      "cnf(inferred_23, hypothesis, member(element_of_b,bb) , inference(resolution, [], [inferred_0,inferred_4])).\n",
      "cnf(inferred_0, hypothesis, subset(b,bb) , inference(resolution, [], [b_equals_bb,set_equal_sets_are_subsets1])).\n",
      "cnf(inferred_4, hypothesis, ~subset(b,X2) |member(element_of_b,X2) , inference(resolution, [], [element_of_b,membership_in_subsets])).\n"
     ]
    }
   ],
   "source": [
    "# one can now check the TSTP proof found\n",
    "print(env.tstp_proof)"
   ]
  },
  {
   "cell_type": "code",
   "execution_count": 12,
   "id": "eced87ac",
   "metadata": {
    "collapsed": false
   },
   "outputs": [
    {
     "name": "stdout",
     "output_type": "stream",
     "text": [
      "4 25\n"
     ]
    }
   ],
   "source": [
    "# paramodulation test\n",
    "import sys\n",
    "if sys.version_info.major == 3 and sys.version_info.minor == 9:\n",
    "    from importlib.resources import files\n",
    "else:\n",
    "    from importlib_resources import files\n",
    "env, episode_memory = episode(\n",
    "    problem_filename=files(\n",
    "        \"gym_saturation\"\n",
    "    ).joinpath(\"resources/TPTP-mock/Problems/TST/TST002-1.p\"), \n",
    "    step_limit=25,\n",
    "    policy=size_policy\n",
    ")\n",
    "# here the proof consists of four steps\n",
    "# but a naïve policy needs 25\n",
    "print(\n",
    "    len(env.tstp_proof.split(\"\\n\")), \n",
    "    len(episode_memory)\n",
    ")"
   ]
  }
 ],
 "metadata": {
  "kernelspec": {
   "argv": [
    "python",
    "-m",
    "ipykernel_launcher",
    "-f",
    "{connection_file}"
   ],
   "display_name": "Python 3",
   "env": null,
   "interrupt_mode": "signal",
   "language": "python",
   "metadata": null,
   "name": "python3"
  },
  "name": "example.ipynb"
 },
 "nbformat": 4,
 "nbformat_minor": 5
}
