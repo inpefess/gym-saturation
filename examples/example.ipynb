{
 "cells": [
  {
   "cell_type": "markdown",
   "id": "0f03a319-2e81-4b99-b580-5b8b58fe577a",
   "metadata": {
    "collapsed": false,
    "jupyter": {
     "outputs_hidden": false
    },
    "slideshow": {
     "slide_type": "slide"
    },
    "tags": []
   },
   "source": [
    "<pre>\n",
    "Copyright 2021-2022 Boris Shminke\n",
    "\n",
    "Licensed under the Apache License, Version 2.0 (the \"License\");\n",
    "you may not use this file except in compliance with the License.\n",
    "You may obtain a copy of the License at\n",
    "\n",
    "    https://www.apache.org/licenses/LICENSE-2.0\n",
    "\n",
    "Unless required by applicable law or agreed to in writing, software\n",
    "distributed under the License is distributed on an \"AS IS\" BASIS,\n",
    "WITHOUT WARRANTIES OR CONDITIONS OF ANY KIND, either express or implied.\n",
    "See the License for the specific language governing permissions and\n",
    "limitations under the License.\n",
    "</pre>"
   ]
  },
  {
   "cell_type": "code",
   "execution_count": 1,
   "id": "1eac75c1-5589-4164-851c-b98e6042d69d",
   "metadata": {
    "collapsed": false,
    "jupyter": {
     "outputs_hidden": false
    }
   },
   "outputs": [],
   "source": [
    "# first, we should have a file with a TPTP problem\n",
    "import sys\n",
    "import os\n",
    "if sys.version_info.major == 3 and sys.version_info.minor >= 9:\n",
    "    from importlib.resources import files\n",
    "else:\n",
    "    from importlib_resources import files\n",
    "\n",
    "syllogism = files(\"gym_saturation\").joinpath(\n",
    "    os.path.join(\n",
    "        \"resources\", \"TPTP-mock\", \"Problems\", \"TST\", \"TST003-1.p\"\n",
    "    )\n",
    ")"
   ]
  },
  {
   "cell_type": "code",
   "execution_count": 2,
   "id": "e53a091e-7b64-485c-bfb4-ea7628b8f058",
   "metadata": {
    "collapsed": false,
    "jupyter": {
     "outputs_hidden": false
    },
    "slideshow": {
     "slide_type": "slide"
    },
    "tags": []
   },
   "outputs": [
    {
     "name": "stdout",
     "output_type": "stream",
     "text": [
      "cnf(p_imp_q, hypothesis, ~ carnivore(X) | animal(X)).\r\n",
      "cnf(p, hypothesis, carnivore(jaguar)).\r\n",
      "cnf(q, hypothesis, ~ animal(jaguar)).\r\n"
     ]
    },
    {
     "name": "stderr",
     "output_type": "stream",
     "text": [
      "/home/boris/projects/gym-saturation/venv/lib/python3.10/site-packages/jupyter_client/jsonutil.py:76: DeprecationWarning: Interpreting naive datetime as local 2022-10-14 14:47:32. Please add timezone info to timestamps.\n",
      "  new_obj[k] = extract_dates(v)\n"
     ]
    }
   ],
   "source": [
    "# every carnivore is an animal\n",
    "# jaguar is a carnivore\n",
    "# thus, jaguar is an animal\n",
    "!cat {syllogism}"
   ]
  },
  {
   "cell_type": "code",
   "execution_count": 3,
   "id": "ac9c7909-4b12-4a54-b1c5-401d02e6d833",
   "metadata": {
    "collapsed": false
   },
   "outputs": [
    {
     "name": "stdout",
     "output_type": "stream",
     "text": [
      "Vampire 4.6.1 (commit b6b253a1c on 2021-10-18 21:09:27 +0200)\r\n",
      "Linked with Z3 4.8.13.0 f03d756e086f81f2596157241e0decfb1c982299 z3-4.8.4-5390-gf03d756e0\r\n"
     ]
    }
   ],
   "source": [
    "# we have a vampire installed in this container\n",
    "!vampire --version"
   ]
  },
  {
   "cell_type": "code",
   "execution_count": 4,
   "id": "8f3e1d18",
   "metadata": {
    "collapsed": false,
    "jupyter": {
     "outputs_hidden": false
    }
   },
   "outputs": [
    {
     "name": "stdout",
     "output_type": "stream",
     "text": [
      "starting hypotheses:\n",
      "cnf(1, lemma, animal(X0) | ~carnivore(X0), inference(input, [], [])).\n",
      "cnf(2, lemma, carnivore(jaguar), inference(input, [], [])).\n",
      "cnf(3, lemma, ~animal(jaguar), inference(input, [], [])).\n"
     ]
    },
    {
     "name": "stderr",
     "output_type": "stream",
     "text": [
      "/home/boris/projects/gym-saturation/venv/lib/python3.10/site-packages/jupyter_client/jsonutil.py:76: DeprecationWarning: Interpreting naive datetime as local 2022-10-14 14:47:34. Please add timezone info to timestamps.\n",
      "  new_obj[k] = extract_dates(v)\n"
     ]
    }
   ],
   "source": [
    "# then we create and reset a OpenAI Gym environment\n",
    "import gym\n",
    "\n",
    "env = gym.make(\n",
    "    \"GymVampire-v0\",\n",
    "    # a classical syllogism\n",
    "    problem_list=[syllogism],\n",
    "    vampire_binary_path=\"vampire\"\n",
    ")\n",
    "env.reset()\n",
    "# we can render the environment in a human readable form\n",
    "print(\"starting hypotheses:\")\n",
    "print(env.render(mode=\"human\"))"
   ]
  },
  {
   "cell_type": "code",
   "execution_count": 5,
   "id": "e25f8e21-548d-49e3-885b-e103feb1d550",
   "metadata": {
    "collapsed": false
   },
   "outputs": [
    {
     "name": "stderr",
     "output_type": "stream",
     "text": [
      "/home/boris/projects/gym-saturation/venv/lib/python3.10/site-packages/jupyter_client/jsonutil.py:76: DeprecationWarning: Interpreting naive datetime as local 2022-10-14 14:47:35. Please add timezone info to timestamps.\n",
      "  new_obj[k] = extract_dates(v)\n"
     ]
    }
   ],
   "source": [
    "# our 'age' agent will always select clauses for inference\n",
    "# in the order they appeared in current proof attempt\n",
    "action = 0\n",
    "done = False\n",
    "while not done:\n",
    "    observation, reward, done, info = env.step(action)\n",
    "    action += 1"
   ]
  },
  {
   "cell_type": "code",
   "execution_count": 6,
   "id": "949f06ae-8f6b-42d1-9635-58827246802f",
   "metadata": {
    "collapsed": false
   },
   "outputs": [
    {
     "name": "stdout",
     "output_type": "stream",
     "text": [
      "refutation proof:\n",
      "cnf(1, lemma, animal(X0) | ~carnivore(X0), inference(input, [], [])).\n",
      "cnf(2, lemma, carnivore(jaguar), inference(input, [], [])).\n",
      "cnf(3, lemma, ~animal(jaguar), inference(input, [], [])).\n",
      "cnf(4, lemma, animal(jaguar), inference(resolution, [], [2, 1])).\n",
      "cnf(5, lemma, $false, inference(subsumption_resolution, [], [4, 3])).\n",
      "number of attempted steps: 2\n"
     ]
    },
    {
     "name": "stderr",
     "output_type": "stream",
     "text": [
      "/home/boris/projects/gym-saturation/venv/lib/python3.10/site-packages/jupyter_client/jsonutil.py:76: DeprecationWarning: Interpreting naive datetime as local 2022-10-14 14:47:36. Please add timezone info to timestamps.\n",
      "  new_obj[k] = extract_dates(v)\n"
     ]
    }
   ],
   "source": [
    "# SaturationEnv has an additional method\n",
    "# for extracting only clauses which became parts of the proof\n",
    "# (some steps might be unnecessary to find the proof)\n",
    "print(\"refutation proof:\")\n",
    "print(env.tstp_proof)\n",
    "print(f\"number of attempted steps: {action}\")"
   ]
  },
  {
   "cell_type": "code",
   "execution_count": null,
   "id": "339fd11b-24a3-4e13-9273-1679e9ae65dd",
   "metadata": {
    "collapsed": false
   },
   "outputs": [],
   "source": []
  }
 ],
 "metadata": {
  "kernelspec": {
   "argv": [
    "python",
    "-m",
    "ipykernel_launcher",
    "-f",
    "{connection_file}"
   ],
   "display_name": "Python 3 (ipykernel)",
   "env": null,
   "interrupt_mode": "signal",
   "language": "python",
   "metadata": {
    "debugger": true
   },
   "name": "python3"
  },
  "language_info": {
   "codemirror_mode": {
    "name": "ipython",
    "version": 3
   },
   "file_extension": ".py",
   "mimetype": "text/x-python",
   "name": "python",
   "nbconvert_exporter": "python",
   "pygments_lexer": "ipython3",
   "version": "3.10.4"
  },
  "name": "example.ipynb"
 },
 "nbformat": 4,
 "nbformat_minor": 5
}
