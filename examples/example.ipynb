{
 "cells": [
  {
   "cell_type": "code",
   "execution_count": 1,
   "id": "b492d0e6",
   "metadata": {
    "collapsed": false
   },
   "outputs": [],
   "source": [
    "# saturation prover environment can be created\n",
    "# as any other OpenAI Gym environment\n",
    "import gym\n",
    "import os\n",
    "from glob import glob\n",
    "\n",
    "# suppose that (TPTP)[http://tptp.org/] archive was unpacked to ~/Downloads\n",
    "tptp_folder = os.path.join(os.environ[\"HOME\"], \"Downloads\", \"TPTP-v7.5.0\")\n",
    "# it's obligatory to set the maximal number of steps of saturation algorithm\n",
    "# and the list of problems. Here are CNF problems from TPTP\n",
    "problem_list = glob(os.path.join(tptp_folder, \"Problems/*/*-*.p\"))\n",
    "env = gym.make(\n",
    "    \"gym_saturation:saturation-v0\",\n",
    "    step_limit=100,\n",
    "    problem_list=problem_list\n",
    ")"
   ]
  },
  {
   "cell_type": "code",
   "execution_count": 2,
   "id": "aab336d4",
   "metadata": {
    "collapsed": false
   },
   "outputs": [
    {
     "name": "stdout",
     "output_type": "stream",
     "text": [
      "3\n"
     ]
    }
   ],
   "source": [
    "# to make results reproducible, let's set the seed\n",
    "print(env.seed(3))"
   ]
  },
  {
   "cell_type": "code",
   "execution_count": 3,
   "id": "2ef2c619",
   "metadata": {
    "collapsed": false
   },
   "outputs": [],
   "source": [
    "# when resettig the environment one may pass an optional argument ---\n",
    "# a name of an exact problem from TPTP\n",
    "# (if omitted, a problem will be chosen at random)\n",
    "# parsing is done with `lark` package which sometimes might be slow\n",
    "# reimplementing parsing in a faster language than Python might help\n",
    "state = env.reset()"
   ]
  },
  {
   "cell_type": "code",
   "execution_count": 4,
   "id": "07ac49af",
   "metadata": {
    "collapsed": false
   },
   "outputs": [
    {
     "name": "stdout",
     "output_type": "stream",
     "text": [
      "ANA037-2.p\n"
     ]
    }
   ],
   "source": [
    "# during the reset a problem is chosen at random\n",
    "print(os.path.basename(env.problem))"
   ]
  },
  {
   "cell_type": "code",
   "execution_count": 5,
   "id": "6546ba80",
   "metadata": {
    "collapsed": false
   },
   "outputs": [
    {
     "name": "stdout",
     "output_type": "stream",
     "text": [
      "{'class': 'Literal', 'negated': False, 'atom': {'class': 'Predicate', 'name': 'c_lessequals', 'arguments': [{'class': 'Function', 'name': 'c_0', 'arguments': []}, {'class': 'Function', 'name': 'v_f', 'arguments': [{'class': 'Function', 'name': 'v_xa', 'arguments': []}]}, {'class': 'Function', 'name': 't_b', 'arguments': []}]}}\n"
     ]
    }
   ],
   "source": [
    "# state is a list of dictionaries, representing logical clauses\n",
    "print(state[0][\"literals\"][0])"
   ]
  },
  {
   "cell_type": "code",
   "execution_count": 6,
   "id": "6f33da15",
   "metadata": {
    "collapsed": false
   },
   "outputs": [
    {
     "name": "stdout",
     "output_type": "stream",
     "text": [
      "[0, 1, 2, 3, 4, 5, 6, 7, 8, 9]\n"
     ]
    }
   ],
   "source": [
    "# possible actions are indices of not processed clauses from the state\n",
    "print(env.action_space)"
   ]
  },
  {
   "cell_type": "code",
   "execution_count": 7,
   "id": "b509f66e",
   "metadata": {
    "collapsed": false
   },
   "outputs": [
    {
     "name": "stdout",
     "output_type": "stream",
     "text": [
      "cnf(cls_conjecture_2, hypothesis, c_lessequals(c_0,v_f(v_xa),t_b) ).\n",
      "cnf(cls_conjecture_4, hypothesis, c_lessequals(c_HOL_Oabs(v_a(v_xa),t_b),c_times(v_c,v_f(v_xa),t_b),t_b) ).\n",
      "cnf(cls_conjecture_8, hypothesis, ~c_lessequals(c_HOL_Oabs(v_a(v_xa),t_b),c_times(c_Orderings_Omax(v_c,v_ca,t_b),v_f(v_xa),t_b),t_b) ).\n",
      "cnf(tfree_tcs, hypothesis, class_Ring__and__Field_Oordered__idom(t_b) ).\n",
      "cnf(cls_Orderings_Ole__maxI1_0, hypothesis, ~class_Orderings_Olinorder(X0) |c_lessequals(X1,c_Orderings_Omax(X1,X2,X0),X0) ).\n",
      "cnf(cls_Orderings_Oorder__class_Oorder__trans_0, hypothesis, ~class_Orderings_Oorder(X3) |~c_lessequals(X4,X5,X3) |~c_lessequals(X6,X4,X3) |c_lessequals(X6,X5,X3) ).\n",
      "cnf(cls_Ring__and__Field_Opordered__semiring__class_Omult__right__mono_0, hypothesis, ~class_Ring__and__Field_Opordered__semiring(X7) |~c_lessequals(X8,X9,X7) |~c_lessequals(c_0,X10,X7) |c_lessequals(c_times(X8,X10,X7),c_times(X9,X10,X7),X7) ).\n",
      "cnf(clsrel_Ring__and__Field_Oordered__idom_33, hypothesis, ~class_Ring__and__Field_Oordered__idom(X11) |class_Orderings_Olinorder(X11) ).\n",
      "cnf(clsrel_Ring__and__Field_Oordered__idom_42, hypothesis, ~class_Ring__and__Field_Oordered__idom(X12) |class_Ring__and__Field_Opordered__semiring(X12) ).\n",
      "cnf(clsrel_Ring__and__Field_Oordered__idom_44, hypothesis, ~class_Ring__and__Field_Oordered__idom(X13) |class_Orderings_Oorder(X13) ).\n"
     ]
    }
   ],
   "source": [
    "# only \"ansi\" and \"human\" rendering methods are implemented\n",
    "# \"human\" returns TPTP representation\n",
    "print(env.render())"
   ]
  },
  {
   "cell_type": "code",
   "execution_count": 10,
   "id": "8a7411f3",
   "metadata": {
    "collapsed": false
   },
   "outputs": [
    {
     "name": "stdout",
     "output_type": "stream",
     "text": [
      "[{'class': 'Clause', 'literals': [{'class': 'Literal', 'negated': False, 'atom': {'class': 'Predicate', 'name': 'equal_sets', 'arguments': [{'class': 'Function', 'name': 'b', 'arguments': []}, {'class': 'Function', 'name': 'bb', 'arguments': []}]}}], 'label': 'b_equals_bb', 'birth_step': 0, 'processed': True, 'inference_parents': [], 'inference_rule': None}, {'class': 'Clause', 'literals': [{'class': 'Literal', 'negated': False, 'atom': {'class': 'Predicate', 'name': 'member', 'arguments': [{'class': 'Function', 'name': 'element_of_b', 'arguments': []}, {'class': 'Function', 'name': 'b', 'arguments': []}]}}], 'label': 'element_of_b', 'birth_step': 0, 'processed': True, 'inference_parents': [], 'inference_rule': None}, {'class': 'Clause', 'literals': [{'class': 'Literal', 'negated': True, 'atom': {'class': 'Predicate', 'name': 'member', 'arguments': [{'class': 'Function', 'name': 'element_of_b', 'arguments': []}, {'class': 'Function', 'name': 'bb', 'arguments': []}]}}], 'label': 'prove_\n"
     ]
    }
   ],
   "source": [
    "# \"ansi\" returns a JSON string representing the state\n",
    "print(env.render(\"ansi\")[:1000])\n"
   ]
  },
  {
   "cell_type": "code",
   "execution_count": 11,
   "id": "ae452c3b",
   "metadata": {
    "collapsed": false
   },
   "outputs": [
    {
     "name": "stdout",
     "output_type": "stream",
     "text": [
      "True 1.0\n"
     ]
    }
   ],
   "source": [
    "# the package includes a simple episode function\n",
    "from gym_saturation.policy_testing import episode\n",
    "# and an example policy, selecting the shortest clause\n",
    "from gym_saturation.policy_testing import size_policy\n",
    "\n",
    "env, episode_memory = episode(\n",
    "    problem_filename=os.path.join(tptp_folder, \"Problems\", \"SET\", \"SET001-1.p\"),\n",
    "    step_limit=15,\n",
    "    policy=size_policy\n",
    ")\n",
    "# this policy manages to solve a simple problem from TPTP\n",
    "print(episode_memory[-1].done, episode_memory[-1].reward)\n",
    "\n"
   ]
  },
  {
   "cell_type": "code",
   "execution_count": 12,
   "id": "e1494430",
   "metadata": {
    "collapsed": false
   },
   "outputs": [
    {
     "name": "stdout",
     "output_type": "stream",
     "text": [
      "15\n"
     ]
    }
   ],
   "source": [
    "# the proof here consists of only three steps\n",
    "# but a naïve clause size policy finds it only after 15 steps\n",
    "# a trained DL policy might have done better\n",
    "print(len(episode_memory))"
   ]
  },
  {
   "cell_type": "code",
   "execution_count": 13,
   "id": "821fc060",
   "metadata": {
    "collapsed": false
   },
   "outputs": [
    {
     "name": "stdout",
     "output_type": "stream",
     "text": [
      "cnf(inferred_27, hypothesis, $false, inference(resolution, [], [prove_element_of_bb,inferred_23])).\n",
      "cnf(inferred_23, hypothesis, member(element_of_b,bb) , inference(resolution, [], [inferred_0,inferred_4])).\n",
      "cnf(inferred_0, hypothesis, subset(b,bb) , inference(resolution, [], [b_equals_bb,set_equal_sets_are_subsets1])).\n",
      "cnf(inferred_4, hypothesis, ~subset(b,X2) |member(element_of_b,X2) , inference(resolution, [], [element_of_b,membership_in_subsets])).\n"
     ]
    }
   ],
   "source": [
    "# one can now check the TSTP proof found\n",
    "print(env.tstp_proof)"
   ]
  },
  {
   "cell_type": "code",
   "execution_count": 14,
   "id": "f03280cb",
   "metadata": {
    "collapsed": false
   },
   "outputs": [
    {
     "name": "stdout",
     "output_type": "stream",
     "text": [
      "4 25\n"
     ]
    }
   ],
   "source": [
    "# paramodulation test\n",
    "import sys\n",
    "if sys.version_info.major == 3 and sys.version_info.minor == 9:\n",
    "    from importlib.resources import files\n",
    "else:\n",
    "    from importlib_resources import files\n",
    "env, episode_memory = episode(\n",
    "    problem_filename=files(\n",
    "        \"gym_saturation\"\n",
    "    ).joinpath(\"resources/TPTP-mock/Problems/TST/TST002-1.p\"), \n",
    "    step_limit=25,\n",
    "    policy=size_policy\n",
    ")\n",
    "# here the proof consists of four steps\n",
    "# but a naïve policy needs 25\n",
    "print(\n",
    "    len(env.tstp_proof.split(\"\\n\")), \n",
    "    len(episode_memory)\n",
    ")"
   ]
  }
 ],
 "metadata": {
  "kernelspec": {
   "argv": [
    "python",
    "-m",
    "ipykernel_launcher",
    "-f",
    "{connection_file}"
   ],
   "display_name": "Python 3",
   "env": null,
   "interrupt_mode": "signal",
   "language": "python",
   "metadata": null,
   "name": "python3"
  },
  "name": "example.ipynb"
 },
 "nbformat": 4,
 "nbformat_minor": 5
}
