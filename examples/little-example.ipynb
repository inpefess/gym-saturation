{
 "cells": [
  {
   "cell_type": "code",
   "execution_count": 1,
   "id": "7ba9af8a",
   "metadata": {
    "collapsed": false,
    "jupyter": {
     "outputs_hidden": false
    }
   },
   "outputs": [
    {
     "name": "stdout",
     "output_type": "stream",
     "text": [
      "starting hypotheses:\n",
      "cnf(p_imp_q, hypothesis, ~man(X0) | mortal(X0)).\n",
      "cnf(p, hypothesis, man(socrates)).\n",
      "cnf(q, negated_goal, ~mortal(socrates)).\n",
      "refutation proof:\n",
      "cnf(xdebd89e9_8507_11ec_b00c_1907ed72c297, lemma, mortal(socrates), inference(resolution, [], [p_imp_q, p])).\n",
      "cnf(xdebeb402_8507_11ec_b9ec_1907ed72c297, lemma, $false, inference(resolution, [], [q, xdebd89e9_8507_11ec_b00c_1907ed72c297])).\n",
      "number of attempted steps: 6\n"
     ]
    }
   ],
   "source": [
    "# first we create and reset a OpenAI Gym environment\n",
    "from importlib.resources import files\n",
    "import gym\n",
    "import os\n",
    "\n",
    "env = gym.make(\n",
    "    \"gym_saturation:saturation-v0\",\n",
    "    # for a classical syllogism about Socrates\n",
    "    problem_list=[\n",
    "        files(\"gym_saturation\").joinpath(\n",
    "            os.path.join(\"resources\", \"TPTP-mock\", \"Problems\",\n",
    "                         \"TST\", \"TST003-1.p\")\n",
    "        )\n",
    "    ],\n",
    ")\n",
    "env.reset()\n",
    "# we can render the environment (that will become the beginning of the proof)\n",
    "print(\"starting hypotheses:\")\n",
    "print(env.render(\"human\"))\n",
    "# our 'age' agent will always select clauses for inference\n",
    "# in the order they appeared in current proof attempt\n",
    "action = 0\n",
    "done = False\n",
    "while not done:\n",
    "    observation, reward, done, info = env.step(action)\n",
    "    action += 1\n",
    "# SaturationEnv has an additional method\n",
    "# for extracting only clauses which became parts of the proof\n",
    "# (some steps were unnecessary to find the proof)\n",
    "print(\"refutation proof:\")\n",
    "print(env.tstp_proof)\n",
    "print(f\"number of attempted steps: {action}\")"
   ]
  }
 ],
 "metadata": {
  "kernelspec": {
   "display_name": "Python 3 (ipykernel)",
   "language": "python",
   "name": "python3"
  },
  "language_info": {
   "codemirror_mode": {
    "name": "ipython",
    "version": 3
   },
   "file_extension": ".py",
   "mimetype": "text/x-python",
   "name": "python",
   "nbconvert_exporter": "python",
   "pygments_lexer": "ipython3",
   "version": "3.9.7"
  },
  "name": "little-example.ipynb"
 },
 "nbformat": 4,
 "nbformat_minor": 5
}
