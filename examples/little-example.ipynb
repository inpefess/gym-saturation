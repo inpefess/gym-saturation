{
 "cells": [
  {
   "cell_type": "code",
   "execution_count": 2,
   "id": "07e963fe",
   "metadata": {
    "collapsed": false
   },
   "outputs": [],
   "source": [
    "# Copyright 2021-2022 Boris Shminke\n",
    "#\n",
    "# Licensed under the Apache License, Version 2.0 (the \"License\");\n",
    "# you may not use this file except in compliance with the License.\n",
    "# You may obtain a copy of the License at\n",
    "#\n",
    "#     https://www.apache.org/licenses/LICENSE-2.0\n",
    "#\n",
    "# Unless required by applicable law or agreed to in writing, software\n",
    "# distributed under the License is distributed on an \"AS IS\" BASIS,\n",
    "# WITHOUT WARRANTIES OR CONDITIONS OF ANY KIND, either express or implied.\n",
    "# See the License for the specific language governing permissions and\n",
    "# limitations under the License."
   ]
  },
  {
   "cell_type": "code",
   "execution_count": 3,
   "id": "5bfdbe57",
   "metadata": {
    "collapsed": false,
    "jupyter": {
     "outputs_hidden": false
    }
   },
   "outputs": [
    {
     "name": "stdout",
     "output_type": "stream",
     "text": [
      "starting hypotheses:\n",
      "cnf(p_imp_q, hypothesis, ~man(X0) | mortal(X0)).\n",
      "cnf(p, hypothesis, man(socrates)).\n",
      "cnf(q, hypothesis, ~mortal(socrates)).\n",
      "refutation proof:\n",
      "cnf(xff28a779_b821_11ec_a9ea_0f4925154247, lemma, mortal(socrates), inference(resolution, [], [p_imp_q, p])).\n",
      "cnf(xff28a793_b821_11ec_a9ea_0f4925154247, lemma, $false, inference(resolution, [], [q, xff28a779_b821_11ec_a9ea_0f4925154247])).\n",
      "number of attempted steps: 4\n"
     ]
    }
   ],
   "source": [
    "# first we create and reset a OpenAI Gym environment\n",
    "try:\n",
    "    from importlib.resources import files\n",
    "except ImportError:\n",
    "    from importlib_resources import files\n",
    "import gym\n",
    "import os\n",
    "\n",
    "env = gym.make(\n",
    "    \"GymSaturation-v0\",\n",
    "    # for a classical syllogism about Socrates\n",
    "    problem_list=[\n",
    "        files(\"gym_saturation\").joinpath(\n",
    "            os.path.join(\"resources\", \"TPTP-mock\", \"Problems\",\n",
    "                         \"TST\", \"TST003-1.p\")\n",
    "        )\n",
    "    ],\n",
    ")\n",
    "env.reset()\n",
    "# we can render the environment (that will become the beginning of the proof)\n",
    "print(\"starting hypotheses:\")\n",
    "print(env.render(\"human\"))\n",
    "# our 'age' agent will always select clauses for inference\n",
    "# in the order they appeared in current proof attempt\n",
    "action = 0\n",
    "done = False\n",
    "while not done:\n",
    "    observation, reward, done, info = env.step(action)\n",
    "    action += 1\n",
    "# SaturationEnv has an additional method\n",
    "# for extracting only clauses which became parts of the proof\n",
    "# (some steps were unnecessary to find the proof)\n",
    "print(\"refutation proof:\")\n",
    "print(env.tstp_proof)\n",
    "print(f\"number of attempted steps: {action}\")"
   ]
  },
  {
   "cell_type": "code",
   "execution_count": 6,
   "id": "4ba78eb8",
   "metadata": {
    "collapsed": false
   },
   "outputs": [
    {
     "name": "stdout",
     "output_type": "stream",
     "text": [
      "cnf(1, hypothesis, mortal(X0) | ~man(X0), inference(input, [], [])).\n",
      "cnf(2, hypothesis, man(socrates), inference(input, [], [])).\n",
      "cnf(3, hypothesis, ~mortal(socrates), inference(input, [], [])).\n",
      "cnf(4, hypothesis, mortal(socrates), inference(resolution, [], [2, 1])).\n",
      "cnf(5, hypothesis, $false, inference(subsumption_resolution, [], [4, 3])).\n",
      "number of attempted steps: 2\n"
     ]
    }
   ],
   "source": [
    "# the same example using Vampire backend\n",
    "env = gym.make(\n",
    "    \"GymVampire-v0\",\n",
    "    problem_list=[\n",
    "        files(\"gym_saturation\").joinpath(\n",
    "            os.path.join(\"resources\", \"TPTP-mock\", \"Problems\",\n",
    "                         \"TST\", \"TST003-1.p\")\n",
    "        )\n",
    "    ],\n",
    "    vampire_binary_path=\"vampire\"\n",
    ")\n",
    "env.reset()\n",
    "action = 0\n",
    "done = False\n",
    "while not done:\n",
    "    observation, reward, done, info = env.step(action)\n",
    "    action += 1\n",
    "print(env.tstp_proof)\n",
    "print(f\"number of attempted steps: {action}\")"
   ]
  }
 ],
 "metadata": {
  "kernelspec": {
   "argv": [
    "python",
    "-m",
    "ipykernel_launcher",
    "-f",
    "{connection_file}"
   ],
   "display_name": "Python 3 (ipykernel)",
   "env": null,
   "interrupt_mode": "signal",
   "language": "python",
   "metadata": {
    "debugger": true
   },
   "name": "python3"
  },
  "language_info": {
   "codemirror_mode": {
    "name": "ipython",
    "version": 3
   },
   "file_extension": ".py",
   "mimetype": "text/x-python",
   "name": "python",
   "nbconvert_exporter": "python",
   "pygments_lexer": "ipython3",
   "version": "3.9.7"
  },
  "name": "little-example.ipynb"
 },
 "nbformat": 4,
 "nbformat_minor": 5
}
