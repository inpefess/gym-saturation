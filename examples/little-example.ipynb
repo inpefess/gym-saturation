{
 "cells": [
  {
   "cell_type": "code",
   "execution_count": 1,
   "id": "eee97952",
   "metadata": {
    "collapsed": false
   },
   "outputs": [
    {
     "name": "stdout",
     "output_type": "stream",
     "text": [
      "starting hypotheses:\n",
      "cnf(p_imp_q, hypothesis, ~man(X0) | mortal(X0)).\n",
      "cnf(p, hypothesis, man(socrates)).\n",
      "cnf(q, hypothesis, ~mortal(socrates)).\n",
      "refutation proof:\n",
      "cnf(x9ffdd451_6752_11ec_bbef_1fc71250e07a, hypothesis, mortal(socrates), inference(resolution, [], [p_imp_q, p])).\n",
      "cnf(x9ffdd46b_6752_11ec_bbef_1fc71250e07a, hypothesis, $false, inference(resolution, [], [q, x9ffdd451_6752_11ec_bbef_1fc71250e07a])).\n",
      "number of attempted steps: 6\n"
     ]
    }
   ],
   "source": [
    "# first we create and reset a OpenAI Gym environment\n",
    "from importlib.resources import files\n",
    "import gym\n",
    "\n",
    "env = gym.make(\n",
    "    \"gym_saturation:saturation-v0\",\n",
    "    # we will try to find a proof shorter than 10 steps\n",
    "    step_limit=10,\n",
    "    # for a classical syllogism about Socrates\n",
    "    problem_list=[\n",
    "        files(\"gym_saturation\").joinpath(\n",
    "            \"resources/TPTP-mock/Problems/TST/TST003-1.p\"\n",
    "        )\n",
    "    ],\n",
    ")\n",
    "env.reset()\n",
    "# we can render the environment (that will become the beginning of the proof)\n",
    "print(\"starting hypotheses:\")\n",
    "print(env.render(\"human\"))\n",
    "# our 'age' agent will always select clauses for inference\n",
    "# in the order they appeared in current proof attempt\n",
    "action = 0\n",
    "done = False\n",
    "while not done:\n",
    "    observation, reward, done, info = env.step(action)\n",
    "    action += 1\n",
    "# SaturationEnv has an additional method\n",
    "# for extracting only clauses which became parts of the proof\n",
    "# (some steps were unnecessary to find the proof)\n",
    "print(\"refutation proof:\")\n",
    "print(env.tstp_proof)\n",
    "print(f\"number of attempted steps: {action}\")"
   ]
  },
  {
   "cell_type": "code",
   "execution_count": null,
   "id": "27cbb0c7",
   "metadata": {
    "collapsed": false
   },
   "outputs": [],
   "source": []
  }
 ],
 "metadata": {
  "kernelspec": {
   "argv": [
    "python",
    "-m",
    "ipykernel_launcher",
    "-f",
    "{connection_file}"
   ],
   "display_name": "Python 3",
   "env": null,
   "interrupt_mode": "signal",
   "language": "python",
   "metadata": null,
   "name": "python3"
  },
  "name": "little-example.ipynb"
 },
 "nbformat": 4,
 "nbformat_minor": 5
}
